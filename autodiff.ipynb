{
  "cells": [
    {
      "cell_type": "markdown",
      "metadata": {
        "id": "view-in-github",
        "colab_type": "text"
      },
      "source": [
        "<a href=\"https://colab.research.google.com/github/newfrogg/Automatic-Differentiation/blob/dev/autodiff.ipynb\" target=\"_parent\"><img src=\"https://colab.research.google.com/assets/colab-badge.svg\" alt=\"Open In Colab\"/></a>"
      ]
    },
    {
      "cell_type": "markdown",
      "source": [
        "| Mục lớn                             | Mục nhỏ                                                         |           |\n",
        "|-------------------------------------|-----------------------------------------------------------------|-----------|\n",
        "| Introduction                        |                                                                 |  1 người  |\n",
        "|                                     | Differential Calculus                                           |  Tử Quân  |\n",
        "|                                     | Rules of Calculus                                               |  Tử Quân  |\n",
        "|                                     | Multivariate Chain Rule                                         |  Tử Quân  |\n",
        "|                                     | Geometry of Gradients and Gradient Descent                      |  Tử Quân  |\n",
        "| What Autodiff Isn’t                 |                                                                 |  3 người  |\n",
        "|                                     | Autodiff is not finite differences (numerical differentiation)  |  An Đông  |\n",
        "|                                     | Autodiff is not symbolic differentiation                        |  An Đông  |\n",
        "|                                     | What autodiff is ?                                              |  An Đông  |\n",
        "|                                     | Types of Autodiff (explain forward, backward)                   |  An Đông  |\n",
        "|                                     | Backpropagation Algorithm                                       |  Gia Hinh |\n",
        "|                                     | Gradient-Based Optimization                                     |  Gia Hinh |\n",
        "|                                     | give an example and describe the autodiff step-by-step workflow |  Gia Hinh |\n",
        "|                                     | Summary. Compare betwwen each type advancement of each types    |  Gia Hinh |\n",
        "| Visualization. Code, Implementation |                                                                 |  1 người  |\n",
        "|                                     | Code                                                            | Bảo Lương |\n",
        "| Exercise                            |                                                                 |  2 người  |\n",
        "|                                     | Q1-4                                                            |   Triết   |\n",
        "|                                     | Q5-8                                                            | Minh Quân |"
      ],
      "metadata": {
        "id": "6-FUvYwvWEJF"
      },
      "id": "6-FUvYwvWEJF"
    },
    {
      "cell_type": "markdown",
      "source": [
        "# Introduction\n",
        "\n",
        "## Differential Calculus\n",
        "Differential calculus is fundamentally the study of how functions behave under small changes. The key of single variable calculus is the behavior of familiar functions can be modeled by a line in a small enough range. This means that for most functions, it is reasonable to expect that as we shift the $x$ value of the function by a small amount $x + \\epsilon$, the output $f(x)$ will also be shifted by a little bit.\n",
        "\n",
        "We can consider the ratio of the change in the output of a function for a small change in the input of the function. We can write this formally as:\n",
        "\\\\[\\frac{L(x+\\epsilon) - L(x)}{(x+\\epsilon) - x} = \\frac{L(x+\\epsilon) - L(x)}{\\epsilon}.\\\\]\n",
        "\n",
        "The derivative of a function quantifies how the function's output changes in response to changes in its input and is defined by the limit:\n",
        "\\\\[\\frac{df}{dx}(x) = \\lim_{\\epsilon \\rightarrow 0}\\frac{f(x+\\epsilon) - f(x)}{\\epsilon}.\\\\]\n",
        "\n",
        "## Rules of Calculus\n",
        "### Common Derivatives\n",
        "When computing derivatives one can oftentimes use a series of rules to reduce the computation to a few core functions.\n",
        "\n",
        "*   Derivative of constants. $\\frac{d}{dx}c = 0$\n",
        "*   Derivative of linear functions. $\\frac{d}{dx}(ax) = a$\n",
        "*   Power rule. $\\frac{d}{dx}x^n = nx^{n-1}$\n",
        "*   Derivative of exponentials. $\\frac{d}{dx}e^x = e^x$\n",
        "*   Derivative of the logarithm. $\\frac{d}{dx}\\log(x) = \\frac{1}{x}$\n",
        "\n",
        "### Derivative Rules\n",
        "We can generalize the above derivatives and compute more complex derivatives by codify what happens when we take functions and combine them in various ways, most importantly: sums, products, and compositions.\n",
        "*   Sum rule $\\frac{d}{dx}\\left(g(x) + h(x)\\right) = \\frac{dg}{dx}(x) + \\frac{dh}{dx}(x)$\n",
        "*   Product rule $\\frac{d}{dx}\\left(g(x)\\cdot h(x)\\right) = g(x)\\frac{dh}{dx}(x) + \\frac{dg}{dx}(x)h(x)$\n",
        "*   Chain rule $\\frac{d}{dx}g(h(x)) = \\frac{dg}{dh}(h(x))\\cdot \\frac{dh}{dx}(x)$\n",
        "\n",
        "These rule provide us with a flexible set of tools to compute essentially any expression desired. As an example, let us find the derivative of the function $f(x) = \\log\\left(1+(x-1)^{10}\\right)$:\n",
        "\n",
        "\n",
        "\\begin{split}\\begin{aligned}\n",
        "\\frac{d}{dx}\\left[\\log\\left(1+(x-1)^{10}\\right)\\right] & = \\left(1+(x-1)^{10}\\right)^{-1}\\frac{d}{dx}\\left[1+(x-1)^{10}\\right]\\\\\n",
        "& = \\left(1+(x-1)^{10}\\right)^{-1}\\left(\\frac{d}{dx}[1] + \\frac{d}{dx}[(x-1)^{10}]\\right) \\\\\n",
        "& = \\left(1+(x-1)^{10}\\right)^{-1}\\left(0 + 10(x-1)^9\\frac{d}{dx}[x-1]\\right) \\\\\n",
        "& = 10\\left(1+(x-1)^{10}\\right)^{-1}(x-1)^9 \\\\\n",
        "& = \\frac{10(x-1)^9}{1+(x-1)^{10}}.\n",
        "\\end{aligned}\\end{split}\n",
        "\n",
        "Where each line has used the following rules:\n",
        "\n",
        "1.   The chain rule and derivative of logarithm.\n",
        "2.   The sum rule.\n",
        "3.   The derivative of constants, chain rule, and power rule.\n",
        "4.   The sum rule, derivative of linear functions, derivative of constants.\n",
        "\n",
        "### Linear Approximation\n",
        "When working with derivatives, it is often useful to geometrically interpret the approximation used above. In particular, note that the equation\n",
        " \\\\[f(x+\\epsilon) \\approx f(x) + \\epsilon \\frac{df}{dx}(x),\\\\]\n",
        "\n",
        "approximates the value of $f$ by a line which passes through the point $(x, f(x))$ and has slope $\\frac{df}{dx}(x)$. In this way we say that the derivative gives a linear approximation to the function $f$.\n",
        "\n",
        "### Higher Order Derivatives\n",
        "The derivative, $\\frac{df}{dx}$, can be viewed as a function itself, so nothing stops us from computing the derivative of $\\frac{df}{dx}$ to get $\\frac{d^2f}{dx^2} = \\frac{df}{dx}\\left(\\frac{df}{dx}\\right)$. We will call this the second derivative of $f$. This function is the rate of change of the rate of change of $f$, or in other words, how the rate of change is changing. We may apply the derivative any number of times to obtain what is called the $n$-th derivative. To keep the notation clean, we will denote the $n$-th derivative as\n",
        "\n",
        "\\\\[f^{(n)}(x) = \\frac{d^{n}f}{dx^{n}} = \\left(\\frac{d}{dx}\\right)^{n} f.\\\\]\n",
        "\n",
        "The second derivative can be interpreted as describing the way that the function $f$ curves. A positive second derivative leads to a upwards curve, while a negative second derivative means that $f$ curves downwards, and a zero second derivative means that $f$ does not curve at all.\n",
        "### Taylor Series\n",
        "The Taylor series provides a method to approximate the function $f(x)$ if we are given values for the first $n$ derivatives at a point $x_0$, i.e., $\\left\\{ f(x_0), f^{(1)}(x_0), f^{(2)}(x_0), \\ldots, f^{(n)}(x_0) \\right\\}$. The idea will be to find a degree $n$ polynomial that matches all the given derivatives at $x_0$.\n",
        "\n",
        "We can get a degree $n$ polynomial by\n",
        "\\\\[P_n(x) = \\sum_{i = 0}^{n} \\frac{f^{(i)}(x_0)}{i!}(x-x_0)^{i}.\\\\]\n",
        "where the notation\n",
        "\\\\[f^{(n)}(x) = \\frac{d^{n}f}{dx^{n}} = \\left(\\frac{d}{dx}\\right)^{n} f.\\\\]\n",
        "\n",
        "Taylor series have two primary applications:\n",
        "\n",
        "1. Theoretical applications: Often when we try to understand a too complex function, using Taylor series enables us to turn it into a polynomial that we can work with directly.\n",
        "\n",
        "2. Numerical applications: Some functions like $e^{x}$ or $\\cos(x)$ are difficult for machines to compute. They can store tables of values at a fixed precision (and this is often done), but it still leaves open questions like “What is the 1000-th digit of $\\cos(1)$?” Taylor series are often helpful to answer such questions.\n",
        "\n",
        "## Geometry of Gradients and Gradient Descent\n",
        "\n",
        "\n",
        "In multivariable calculus, the gradient of a scalar-valued function $f: \\mathbb{R}^n \\rightarrow \\mathbb{R} $ is a vector that points in the direction of the greatest rate of increase of the function. The gradient is denoted as $\\nabla f $ and is defined as:\n",
        "\n",
        "\\\\[\\nabla f(\\mathbf{x}) = \\left( \\frac{\\partial f}{\\partial x_1}, \\frac{\\partial f}{\\partial x_2}, \\ldots, \\frac{\\partial f}{\\partial x_n} \\right)\\\\]\n",
        "\n",
        "Here, each component $\\frac{\\partial f}{\\partial x_i}$ represents the partial derivative of $f$ with respect to the variable $x_i$.\n",
        "\n",
        "The geometric interpretation of gradients can be explained as follows:\n",
        "\n",
        "* Direction: The gradient vector at a point $\\mathbf{x}$ points in the direction of the steepest ascent of the function $f$ at that point.\n",
        "\n",
        "* Magnitude: The length (or norm) of the gradient vector indicates the rate of increase of the function in that direction.\n",
        "\n",
        "* Orthogonality to Level Sets: The gradient at a point is perpendicular (orthogonal) to the level set (or contour line) passing through that point. A level set is the set of points where the function $f$ has a constant value.\n",
        "\n",
        "Gradient descent is an iterative optimization algorithm used to find local minima of differentiable functions. Starting from an initial point $\\mathbf{x}_0$, the algorithm updates the point iteratively using the rule:\n",
        "\n",
        "\\\\[\\mathbf{x}_{k+1} = \\mathbf{x}_k - \\eta \\nabla f(\\mathbf{x}_k)\\\\]\n",
        "\n",
        "Here:\n",
        "\n",
        "* $\\mathbf{x}_k $: Current point in $\\mathbb{R}^n$.\n",
        "\n",
        "* $\\eta$: Learning rate or step size, a positive scalar determining the size of the step taken in the direction opposite to the gradient.\n",
        "\n",
        "* $\\nabla f(\\mathbf{x}_k)$: Gradient of the function $ f$ at point $\\mathbf{x}_k$.\n",
        "\n",
        "At each iteration, the algorithm moves the current point $\\mathbf{x}_k$ in the direction opposite to the gradient $\\nabla f(\\mathbf{x}_k)$, aiming to decrease the function's value.\n",
        "\n",
        "Imagine a three-dimensional surface representing the function $f(\\mathbf{x}) $, where the height corresponds to the function's value. The gradient at any point on this surface points in the direction of the steepest ascent. Therefore, moving in the opposite direction of the gradient leads to the steepest descent.\n",
        "\n",
        "In two dimensions, the level sets of $ f $ are contour lines. The gradient vector at any point is perpendicular to the contour line at that point, pointing towards higher values of $f$. Gradient descent moves the point perpendicularly across contour lines towards regions of lower function values.\n",
        "\n",
        "## Multivariate Chain Rule\n",
        "\n",
        "The Multivariate Chain Rule is a fundamental concept in calculus, where functions often depend on multiple variables through complex compositions. When a function depends on multiple variables, and each of those variables is itself a function of other variables, the multivariate chain rule provides a systematic way to compute derivatives. This is essential for understanding how changes in input variables affect the output.\n",
        "\n",
        "If a function $f$ depends on intermediate variables $u$ and $v$, which in turn depend on variables $a$ and $b$, the derivative of $f$ with respect to $a$ is given by:\n",
        "\n",
        "\\\\[\\frac{\\partial f}{\\partial a} = \\frac{\\partial f}{\\partial u} \\frac{\\partial u}{\\partial a} + \\frac{\\partial f}{\\partial v} \\frac{\\partial v}{\\partial a}\\\\]\n",
        "\n",
        "This formula accounts for all the paths through which $a$ influences $f$.\n",
        "\n",
        "For example, let us imagine network of functions where the functions on the right depend on those that are connected to on the left:\n",
        "\n",
        "<p align=\"center\">\n",
        "  <img src=\"https://d2l.ai/_images/chain-net2.svg\" width=\"400\" height=\"300\"/>\n",
        "</p>\n",
        "\n",
        "To compute something like $\\frac{\\partial f}{\\partial y}$, we need to sum over all (in this case $3$) paths from $y$ to $f$ giving\n",
        "\n",
        "\\\\[\\frac{\\partial f}{\\partial y} = \\frac{\\partial f}{\\partial a} \\frac{\\partial a}{\\partial u} \\frac{\\partial u}{\\partial y} + \\frac{\\partial f}{\\partial u} \\frac{\\partial u}{\\partial y} + \\frac{\\partial f}{\\partial b} \\frac{\\partial b}{\\partial v} \\frac{\\partial v}{\\partial y}.\\\\]\n",
        "\n"
      ],
      "metadata": {
        "id": "LRVgmL2uBTRS"
      },
      "id": "LRVgmL2uBTRS"
    },
    {
      "cell_type": "markdown",
      "source": [
        "<div align=\"justify\">\n",
        "\n",
        "# What AD Is Not ?\n",
        "Without a clear introduction, many people place automatic differentiation (AD) in the same category as numerical differentiation or symbolic differentiation. This confusion is understandable because AD delivers numerical values for derivatives while using the rules of symbolic calculus, yet it only stores the resulting numbers rather than the complete algebraic expressions. This dual character means AD operates in a space that overlaps both approaches (Griewank, 2003). To start, we will explain how AD differs from those two familiar methods and in many respects exceeds their capabilities.\n",
        "\n",
        "## AD Is Not Numerical Differentiation\n",
        "Numerical differentiation estimates a derivative by applying finite difference formulas to function values sampled at specific points (Burden & Faires, 2001). At its core, the method springs directly from the limit definition of the derivative. For example, for a multivariate function $f∶R^n→R$, one can approximate the gradient $(\\frac{∂f}{∂x_1 },…,\\frac{∂f}{∂x_n})$ using:\n",
        "\n",
        "$$\\frac{∂f(x)}{∂x_i} \\approx \\frac{f(x+he_i )-f(x)}{h}\\text{ (Eq.1)}$$\n",
        "\n",
        "\n",
        "where $e_i$ is the $i$-th unit vector and $h>0$ is a small step size. Its main upside is simplicity of implementation; the downsides are that computing a gradient in $n$ dimensions needs $O(n)$ separate evaluations of $f$ and that you must choose the step size $h$ with great care.\n",
        "\n",
        "Approximating derivatives numerically is fundamentally unstable and suffers from poor conditioning, except when using complex variable techniques that apply only to certain holomorphic functions (Fornberg, 1981). This instability arises from truncation errors and round off errors introduced by finite computational precision and the selection of the step size $h$. While the truncation error vanishes as $h$ approaches zero $(h→0)$, reducing $h$ increases the round off error until it becomes the primary source of inaccuracy.\n",
        "\n",
        "Various methods have been proposed to reduce the approximation error in numerical differentiation. For example, using a central difference formula:\n",
        "\n",
        "$$ \\frac{∂f(x)}{∂x_i} \\approx \\frac{f(x+he_i )-f(x-he_i)}{2h} + O(h^2 )\\text{ (Eq.2)}$$\n",
        "\n",
        "in which the leading order errors cancel out, pushing the truncation error from first order to second order in $h$. In one dimension, this central difference (Eq. 2) is just as expensive as the forward difference (Eq. 1) because both require two evaluations of $f$. But in higher dimensions the cost grows quickly: forming the full Jacobian of a map $f∶R^n→R^m$ using central differences demands $2mn$ function evaluations, forcing a trade off between accuracy and computational expense.\n",
        "\n",
        "Advanced approaches to enhance numerical differentiation, such as higher order finite difference schemes, Richardson extrapolation toward the limit (Brezinski & Zaglia, 1991), and weighted sum differential quadrature methods (Bert & Malik, 1996), all raise computational cost, never fully remove approximation errors, and remain highly vulnerable to floating point truncation. Moreover, the $O(n)$ expense of computing an $n$-dimensional gradient makes numerical differentiation impractical for machine learning, where $n$ can reach millions or billions in cutting edge deep networks (Shazeer et al., 2017). By contrast, deep learning models tolerate approximation errors reasonably well thanks to their intrinsic resilience to numerical noise (Gupta et al., 2015).\n",
        "\n",
        "## AD Is Not Symbolic Differentiation\n",
        "\n",
        "Symbolic differentiation refers to the automated transformation of mathematical expressions to derive their exact derivative formulas (Grabmeier and Kaltofen, 2003). This is achieved by systematically applying differentiation rules, for example:\n",
        "\n",
        "$$ \\frac{d}{dx}(f(x)+g(x)) \\approx \\frac{d}{dx}(f(x)) + \\frac{d}{dx}(g(x))\\text{ (Eq.3)}$$\n",
        "\n",
        "$$ \\frac{d}{dx}(f(x)g(x)) \\approx (\\frac{d}{dx}(f(x)))g(x) + f(x)(\\frac{d}{dx}(g(x)))\\text{ (Eq.4)}$$\n",
        "\n",
        "When mathematical formulas are stored as structured data, differentiating an expression tree by symbolic means becomes a fully mechanical task, an idea that dates back to the earliest days of calculus (Leibniz, 1685). Today, this approach is implemented in computer algebra systems like Mathematica, Maxima, and Maple, as well as in machine learning libraries such as Theano.\n",
        "\n",
        "In optimization, symbolic derivatives can reveal the underlying structure of a problem and sometimes even yield closed-form solutions for extrema( such as solving for $\\frac{d}{dx} f(x)=0$) bypassing the need for further derivative evaluations. However, symbolic derivatives often expand into expressions that grow exponentially in size compared to the original formula, making them impractical for efficient runtime computation of derivative values.\n",
        "\n",
        "Take the function $h(x)=f(x)h(x)$ and apply the product rule. Both $h(x)$ and its derivative $(\\frac{d}{dx} h(x))$ share the subexpressions $f(x)$ and $g(x)$. On the derivative’s right hand side, the terms $f(x)$ and $\\frac{d}{dx} f(x)$ appear separately. If you immediately expand $\\frac{d}{dx} f(x)$ by plugging in its symbolic derivative, you duplicate every computation common to $f(x)$ and $\\frac{d}{dx} f(x)$. Repeating this process without optimization causes the symbolic representation to grow exponentially, making evaluation extremely slow. This issue is called expression swell.\n",
        "\n",
        "![image](./image/expression_swell.png \"Computation Graph\")\n",
        "<p style=\"text-align:center;\">Figure 1: Expression Swell</p>\n",
        "\n",
        "When our focus is on obtaining accurate numerical derivatives rather than preserving their symbolic representations, we can greatly reduce computational effort by storing only the numerical values of intermediate sub expressions. To make this even more efficient, we interleave differentiation and simplification at each step. This concept is the foundation of automatic differentiation: at every elementary operation, perform the symbolic differentiation while simultaneously tracking and storing the numerical results alongside the primary function’s computation. This procedure defines forward mode AD, which we will discuss in the next section.\n",
        "\n",
        "# What is Autodiff and type of Autodiff ?\n",
        "## What is Autodiff ?\n",
        "\n",
        "Automatic differentiation can be viewed as an alternative way to execute a program in which the original calculations are extended to include derivative computations. Every numerical routine ultimately breaks down into a finite collection of basic operations whose derivatives are known (Verma, 2000; Griewank and Walther, 2008). By applying the chain rule to combine the derivatives of these basic operations, one obtains the derivative of the entire composite function. Common basic operations include addition, subtraction, multiplication, division, the sign operation, and transcendental functions such as exponentials, logarithms, and trigonometric functions.\n",
        "\n",
        "To implement this, we can leverage an evaluation trace. An evaluation trace is a special table that keeps track of intermediate variables as well as the operations that created them. Every row corresponds to an intermediate variable and the elementary operation that caused it. These variables, called primals, are typically denoted $v_i$ for functions $f:R^n→R^m$ and follow these rules:\n",
        "\n",
        "- Input variables: $v_{i-n}=x_i,i=1,…,n$\n",
        "- Intermediate variables: $v_i,i=1,…,l$\n",
        "- Output variables: $y_{m-i}=v_{l-i}  ,i=m-1,…,0$\n",
        "\n",
        "\n",
        "\n",
        "Example:\n",
        "\n",
        "$$y=f(x_1,x_2 )=x_1 x_2+x_2-ln⁡(x_1 )\\text{ (Eq.5)}$$\n",
        "$$x_1=2,x_2=4$$\n",
        "\n",
        "<div align=\"center\">\n",
        "\n",
        "| **Forward Primal Trace** | **Output** |\n",
        "| -------- | ------- |\n",
        "| $v_{-1}=x_1$ | 2 |\n",
        "| $v_{0}=x_2$ | 4 |\n",
        "| $v_1=v_{-1} \\times v_0$ | 2 x (4) = 8 |\n",
        "| $v_2=ln⁡(v_{-1})$ | ln(2) = 0.693 |\n",
        "| $v_3=v_1+v_0$ | 8 + 4 = 12 |\n",
        "| $v_4=v_3-v_2$ | 12 – 0.693 = 11.307 |\n",
        "| $y=v_4$ | 11.307 |\n",
        "\n",
        "<p style=\"text-align:center;\">Table 1: Forward Primal Trace</p>\n",
        "</div>\n",
        "\n",
        "![image](./image/compution_graph.png \"Computation Graph\")\n",
        "<p style=\"text-align:center;\">Figure 2: Computation Graph</p>\n",
        "\n",
        "Evaluation traces are fundamental to automatic differentiation. Unlike symbolic differentiation, which is restricted to closed form expressions, AD can also handle algorithms that include branching, loops, recursion, and function calls. This flexibility stems from the fact that any numerical program execution generates a trace of concrete input, intermediate, and output values. Those values alone suffice to calculate derivatives via repeated application of the chain rule, regardless of which control flow path the code followed. In other words, AD disregards any operations, such as conditionals or loop controls, that do not directly affect numerical values.\n",
        "\n",
        "## Forward Mode\n",
        "\n",
        "Forward mode AD enhances the evaluation trace by linking each primary value $v_i$ to a tangent $\\dot{v_i}$. These tangents record the partial derivative of each value relative to the selected input variable.\n",
        "\n",
        "Referencing back to eq. 5, we'd have the following definition of tangents if we were interested in finding $\\frac{∂y}{∂x_2 }$:\n",
        "\n",
        "$$ \\dot{v_i} = \\frac{∂v_i}{∂x_2} $$\n",
        "\n",
        "Continuing from this definition, we can build out the forward primal and forward tangent trace to compute $\\frac{∂y}{∂x_2}$ when $x_1=3,x_2=-4,\\dot{x_1}=\\frac{∂x_1}{∂x_2}=0$, and $\\dot{x_2}=\\frac{∂x_2}{∂x_2}=1$.\n",
        "\n",
        "<div align=\"center\">\n",
        "\n",
        "| Forward Primal Trace | Output | Forward Tangent Trace                       | Output           |\n",
        "|----------------------|--------|---------------------------------------------|------------------|\n",
        "| $v_{-1} = x_1$       | 3      | $\\dot v_{-1} = \\dot x_1$                    | 0                |\n",
        "| $v_{0} = x_2$        | –4     | $\\dot v_{0} = \\dot x_2$                     | 1                |\n",
        "| $v_{1} = v_{-1} \\times v_{0}$ | 3 $\\times$ (-4) = -12 | $\\dot v_{1} = \\dot v_{-1}\\,v_{0} + \\dot v_{0}\\,v_{-1}$ | 0$\\times$(-4)+1$\\times$(3)=3 |\n",
        "| $v_{2} = \\ln(v_{-1})$| ln(3)=1.10 | $\\dot v_{2} = \\dot v_{-1}\\times\\frac{1}{v_{-1}}$ | $0\\times\\frac1{3}=0$ |\n",
        "| $v_{3} = v_{1} + v_{0}$ | -12 + -4 = -16 | $\\dot v_{3} = \\dot v_{1} + \\dot v_{0}$ | $3 + 1 = 4$ |\n",
        "| $v_{4} = v_{3} - v_{2}$ | -16 - 1.10 = -17.10 | $\\dot v_{4} = \\dot v_{3} - \\dot v_{2}$ | $4 - 0 = 4$ |\n",
        "| $y = v_{4}$ | -17.10 | $\\dot y = \\dot v_{4}$ | $4$ |\n",
        "\n",
        "<p style=\"text-align:center;\">Table 2: Forward Mode Trace</p>\n",
        "</div>\n",
        "\n",
        "\n",
        "Forward mode AD works by, at each elementary operation, calculating both the usual intermediate values (primals) and their derivatives (tangents) simultaneously using standard calculus rules. This mechanism not only yields derivatives but can build entire Jacobian matrices. For a function $f:R^n→R^m$, we set the input **x=a** and initialize its tangent $\\dot{x}$ to the unit vector $e_i$ for $i=1,…,n$. Running the function in forward mode then produces the partial derivatives of every output $y_j$ with respect to that single input $x_i$. Each forward pass therefore generates one column of the Jacobian, giving all $\\frac{∂y_j}{∂x_i }$.\n",
        "\n",
        "Jacobian Matrix:\n",
        "\n",
        "$$\n",
        "J =\n",
        "\\begin{pmatrix}\n",
        "\\displaystyle \\frac{\\partial y_{1}}{\\partial x_{1}} & \\cdots & \\displaystyle \\frac{\\partial y_{1}}{\\partial x_{n}} \\\\\n",
        "\\vdots & \\ddots & \\vdots \\\\\n",
        "\\displaystyle \\frac{\\partial y_{m}}{\\partial x_{1}} & \\cdots & \\displaystyle \\frac{\\partial y_{m}}{\\partial x_{n}}\n",
        "\\end{pmatrix}\n",
        "$$\n",
        "\n",
        "Since $f∶R^n→R^m$ has $n$ inputs and each forward mode pass produces one column of the Jacobian, assembling the full $m×n$ Jacobian requires $O(n)$ evaluations. Remember that the Jacobian collects every partial derivative of each output with respect to every input—the very gradients used in optimization.\n",
        "\n",
        "Forward mode AD naturally extends to compute the Jacobian–vector product (JVP). Given J ϵ $R^{m×n}$ and a direction **r** ϵ $R^n$, the JVP **J∙r** is an $m$-dimensional vector describing how the outputs shift when the inputs are perturbed along **r**.\n",
        "\n",
        "The power of forward mode AD lies in the fact that you never have to form the entire Jacobian. By selecting an input point and a single perturbation vector **r** , one forward mode evaluation directly yields the JVP **J∙r** with no need to compute all Jacobian columns.\n",
        "\n",
        "\n",
        "Jacobian-vector Product:\n",
        "\n",
        "$$\n",
        "J\\,\\cdot\\mathbf{r}\n",
        "=\n",
        "\\begin{pmatrix}\n",
        "\\displaystyle \\frac{\\partial y_1}{\\partial x_1} & \\cdots & \\displaystyle \\frac{\\partial y_1}{\\partial x_n} \\\\\n",
        "\\vdots & \\ddots & \\vdots \\\\\n",
        "\\displaystyle \\frac{\\partial y_m}{\\partial x_1} & \\cdots & \\displaystyle \\frac{\\partial y_m}{\\partial x_n}\n",
        "\\end{pmatrix}\n",
        "\\;\\cdot\\;\n",
        "\\begin{pmatrix}\n",
        "r_1\\\\\n",
        "\\vdots\\\\\n",
        "r_n\n",
        "\\end{pmatrix}\n",
        "$$\n",
        "\n",
        "In summary, forward mode AD is especially efficient for functions $f∶R^n→R^m$ when the number of inputs $n$ is much smaller than the number of outputs $m$. In that scenario, one forward pass suffices to compute the entire Jacobian. Conversely, for a function from $R^n$ to $R$, you need $n$ forward passes to obtain its gradient—making forward mode less practical when $n$ is large.\n",
        "\n",
        "This distinction matters in neural networks, where the model’s parameters live in $R^n$ but the loss is a single scalar in $R$. Using forward mode AD for gradient based training would be inefficient because $n$ is typically enormous.\n",
        "\n",
        "Although forward mode avoids numerical pitfalls like instability and expression swell (unlike finite differences or symbolic differentiation), it does not scale well to high dimensional inputs. That limitation is exactly why we turn to AD’s other variant, reverse mode AD for deep learning.\n",
        "\n",
        "\n",
        "## Reverse Mode\n",
        "\n",
        "At this stage, we introduce reverse mode AD, which mirrors forward mode in spirit but differs in technique. We start by defining adjoints $\\bar{v_i}$, each of which represents the partial derivative of a specific output $y_j$, with respect to an intermediate variable $v_i$. Formally, for a function $f∶R^n→R^m$ and indices $i=1,…,n$ and $j=1,…,m$, we set up these adjoints as follows:\n",
        "\n",
        "$$ \\bar{v_i} =  \\frac{∂y_j}{∂v_j}$$\n",
        "\n",
        "In reverse mode AD, we first execute a forward pass exactly as in ordinary code, computing all intermediate values. Unlike forward mode, we don’t calculate derivatives (adjoints) on the fly—instead, we record every operation and its inputs in a computational graph. Once the forward pass is complete, we traverse that graph backward. Using cached intermediate values and the known derivatives of each elementary operation, we apply the chain rule in reverse order to compute each adjoint $\\bar{v_i}$. This backward sweep—from final outputs back to inputs—is what gives reverse mode its name.\n",
        "\n",
        "With intuition behind reverse mode AD, let's take a look at the reverse mode evaluation trace of eq.5 using the same values for the input variables from the Forward Mode Trace.\n",
        "\n",
        "\n",
        "<div align=\"center\">\n",
        "\n",
        "| Forward Primal Trace      | Output               | Reverse Adjoint Trace                                                                       | Output                 |\n",
        "|---------------------------|----------------------|---------------------------------------------------------------------------------------------|------------------------|\n",
        "| $v_{-1} = x_1$            | 3                  | $\\bar v_{-1} = \\bar x_1 = \\bar v_2 \\times \\bigl(\\tfrac{1}{v_{-1}}\\bigr) + \\bar v_1 \\times v_0$ | -1$\\times\\tfrac{1}{3}$ + 1$\\times$(-4) = -4.33 |\n",
        "| $v_{0} = x_2$             | -4                 | $\\bar v_{0} = \\bar x_2 = \\bar v_3 \\times 1 + \\bar v_1 \\times v_{-1}$                         | $1\\times1 + 1\\times3 = 4$           |\n",
        "| $v_{1} = v_{-1}\\times v_{0}$ | 3 $\\times$ (-4) = -12 | $\\bar v_{1} = \\bar v_3 \\times 1$                                                            | $1\\times1 = 1$        |\n",
        "| $v_{2} = \\ln(v_{-1})$     | ln(3) = 1.10      | $\\bar v_{2} = \\bar v_4 \\times (-1)$                                                         | $1\\times(-1) = -1$    |\n",
        "| $v_{3} = v_{1} + v_{0}$   | -12 + (-4) = -16   | $\\bar v_{3} = \\bar v_4 \\times 1$                                                            | $1\\times1 = 1$        |\n",
        "| $v_{4} = v_{3} - v_{2}$   | -16 - 1.10 = -17.10| $\\bar v_{4} = \\bar y$                                                                       | 1                    |\n",
        "| $y = v_{4}$               | -17.10             | $\\bar y$                                                                                    | 1                    |\n",
        "\n",
        "<p style=\"text-align:center;\">Table 3: Reverse Mode Trace</p>\n",
        "</div>\n",
        "\n",
        "\n",
        "We begin the backward pass in reverse mode AD by seeding the output’s adjoint $\\bar{y}=\\frac{∂y}{∂y}=1$. From there, we propagate derivatives back to every variable that influenced $y$, using each operation’s local derivative. Eventually, every input $x$ that contributed to $y$ acquires its adjoint $\\bar{x}$.\n",
        "\n",
        "You may wonder why intermediates like $\\bar{v}_{-1}$ and $\\bar{v}_{0}$ each receive two contributions when their primal values feed into multiple downstream operations (for example, both $v_2$ and $v_1$ depend on them). Rather than discarding one path, we sum both partial derivatives—so each variable’s adjoint accumulates its total effect on the final output.\n",
        "\n",
        "Just as forward mode can compute Jacobians by generating one column per pass, reverse mode can generate rows of the Jacobian. If $f∶R^n→R^m$, you set **x=a** and run one reverse mode pass with $\\bar{y}=e_j$ for each output index $j$($j=1,…,m$). That pass produces $\\frac{∂y_j}{∂x_i }$ for $i=1,…,n$, i.e. one complete row of **J**. Repeating this for all m outputs costs $O(m)$ evaluations.\n",
        "\n",
        "Moreover, reverse mode naturally yields the vector–Jacobian product (VJP). Given a cotangent (row) vector $r^T$  ϵ $R^{1×m}$, a single backward pass computes $r^T$∙**J**( **J** ϵ $R^{m×n}$), an $1×n$ vector of weighted partials—describing how a perturbation in the outputs propagates back to the inputs.\n",
        "\n",
        "Vector-Jacobian Product:\n",
        "\n",
        "$$\n",
        "\\mathbf{r}^T \\cdot J\n",
        "=\n",
        "\\begin{matrix}\n",
        "(r_1 & \\cdots & r_m)^T\n",
        "\\end{matrix}\n",
        "\\cdot\n",
        "\\begin{pmatrix}\n",
        "\\displaystyle \\frac{\\partial y_1}{\\partial x_1} & \\cdots & \\displaystyle \\frac{\\partial y_1}{\\partial x_n} \\\\\n",
        "\\vdots & \\ddots & \\vdots \\\\\n",
        "\\displaystyle \\frac{\\partial y_m}{\\partial x_1} & \\cdots & \\displaystyle \\frac{\\partial y_m}{\\partial x_n}\n",
        "\\end{pmatrix}\n",
        "$$\n",
        "\n",
        "Vector-Jacobian Product (Alt. Form):\n",
        "\n",
        "$$\n",
        "J^T \\,.\\mathbf{r}\n",
        "=\n",
        "\\begin{pmatrix}\n",
        "\\displaystyle \\frac{\\partial y_1}{\\partial x_1} & \\cdots & \\displaystyle \\frac{\\partial y_m}{\\partial x_1} \\\\\n",
        "\\vdots & \\ddots & \\vdots \\\\\n",
        "\\displaystyle \\frac{\\partial y_1}{\\partial x_n} & \\cdots & \\displaystyle \\frac{\\partial y_m}{\\partial x_n}\n",
        "\\end{pmatrix}^T\n",
        "\\cdot\n",
        "\\begin{pmatrix}\n",
        "r_1 & \\cdots & r_m\n",
        "\\end{pmatrix}\n",
        "$$\n",
        "\n",
        "Vector–Jacobian products (VJPs) are central to neural network optimization. We view the Jacobian **J** as the matrix of partial derivatives of a model’s outputs with respect to its inputs, and we interpret $r^T$ as the gradient of a loss function with respect to those outputs. Computing $r^T$∙**J** in this setting directly yields the gradients of the loss with respect to every input parameter—exactly what we need for training—without ever forming the full Jacobian.\n",
        "\n",
        "In reverse mode AD, one backward pass produces the gradient of a single output with respect to all inputs. To obtain gradients for $m$ outputs, you would run $m$ such passes. Since neural networks typically have $n≫m$ parameters but only one scalar loss, reverse mode is ideal: a single reverse pass computes all $n$ gradients in one shot. Although it uses more memory to store intermediate values, that cost is a small price to pay for avoiding an $O(n)$ explosion in computation time. Ultimately, reverse mode AD is the most efficient choice for gradient based learning, delivering all required derivatives in just one backward sweep.\n",
        "\n",
        "\n",
        "\n",
        "</div>"
      ],
      "metadata": {
        "id": "aQgVWYQ1I9AG"
      },
      "id": "aQgVWYQ1I9AG"
    },
    {
      "cell_type": "markdown",
      "source": [
        "# Backpropagation Algorithm\n",
        "Backpropagation Algorithm is the central in traning neural networks.\n",
        "* It is an algorithm for computing gradients\n",
        "* It is a special case of **reverse-mode automatic differentiation** (AD) applied to a computational graph with <font color='red'>a scalar-output</font>.\n",
        "* Note: Backpropagation refers to the <font color='red'> whole process of training an artificial neural network </font> using multiple backpropagation steps, each of which computes gradients and uses them to perform a Gradient Descent step. **In contrast, reverse-mode auto diff is simply a technique used to compute gradients efficiently and it happens to be used by backpropagation.**\n",
        "\n",
        "Let take an example. We have a function, where:\n",
        "\n",
        "\\begin{split}\\begin{aligned}\n",
        "f(u, v) & = (u+v)^{2} \\\\\n",
        "u(a, b) & = (a+b)^{2}, \\qquad v(a, b) = (a-b)^{2}, \\\\\n",
        "a(w, x, y, z) & = (w+x+y+z)^{2}, \\qquad b(w, x, y, z) = (w+x-y-z)^2.\n",
        "\\end{aligned}\\end{split}\n",
        "\n",
        "For illustration, this diagram describes the nodes represent variables and edges show functional dependence.\n",
        "<p align=\"center\">\n",
        "  <img src=\"https://d2l.ai/_images/chain-net1.svg\" width=\"400\" height=\"300\"/>\n",
        "</p>\n",
        "\n",
        "\n",
        "\n",
        "If we want to calculate $\\frac{\\partial f}{\\partial w}$, applying the multi-variate chain rule to get that:\n",
        "\\begin{split}\\begin{aligned}\n",
        "\\frac{\\partial f}{\\partial w} & = \\frac{\\partial f}{\\partial u}\\frac{\\partial u}{\\partial w} + \\frac{\\partial f}{\\partial v}\\frac{\\partial v}{\\partial w}, \\\\\n",
        "\\frac{\\partial u}{\\partial w} & = \\frac{\\partial u}{\\partial a}\\frac{\\partial a}{\\partial w}+\\frac{\\partial u}{\\partial b}\\frac{\\partial b}{\\partial w}, \\\\\n",
        "\\frac{\\partial v}{\\partial w} & = \\frac{\\partial v}{\\partial a}\\frac{\\partial a}{\\partial w}+\\frac{\\partial v}{\\partial b}\\frac{\\partial b}{\\partial w}.\n",
        "\\end{aligned}\\end{split}\n",
        "\n",
        "Next, try using this decomposition to compute $\\frac{\\partial f}{\\partial w}$. Notice that all we need here are the various single step partials:\n",
        "\\begin{split}\\begin{aligned}\n",
        "\\frac{\\partial f}{\\partial u} = 2(u+v), & \\quad\\frac{\\partial f}{\\partial v} = 2(u+v), \\\\\n",
        "\\frac{\\partial u}{\\partial a} = 2(a+b), & \\quad\\frac{\\partial u}{\\partial b} = 2(a+b), \\\\\n",
        "\\frac{\\partial v}{\\partial a} = 2(a-b), & \\quad\\frac{\\partial v}{\\partial b} = -2(a-b), \\\\\n",
        "\\frac{\\partial a}{\\partial w} = 2(w+x+y+z), & \\quad\\frac{\\partial b}{\\partial w} = 2(w+x-y-z).\n",
        "\\end{aligned}\\end{split}\n",
        "\n",
        "If we write this out into code this becomes a fairly manageable expression.\n",
        "\n",
        "\n"
      ],
      "metadata": {
        "id": "g87wIJiyWcSe"
      },
      "id": "g87wIJiyWcSe"
    },
    {
      "cell_type": "code",
      "source": [
        "# !pip install torch==2.0.0 torchvision==0.15.1\n",
        "# !pip install d2l==1.0.3\n",
        "## Import necessary libraries\n",
        "%matplotlib inline\n",
        "import numpy as np\n",
        "import torch\n",
        "from IPython import display\n",
        "from mpl_toolkits import mplot3d\n",
        "# from d2l import torch as d2l\n",
        "# Compute the value of the function from inputs to outputs\n",
        "w, x, y, z = -1, 0, -2, 1\n",
        "a, b = (w + x + y + z)**2, (w + x - y - z)**2\n",
        "u, v = (a + b)**2, (a - b)**2\n",
        "f = (u + v)**2\n",
        "print(f'    f at {w}, {x}, {y}, {z} is {f}')\n",
        "\n",
        "# Compute the single step partials\n",
        "df_du, df_dv = 2*(u + v), 2*(u + v)\n",
        "du_da, du_db, dv_da, dv_db = 2*(a + b), 2*(a + b), 2*(a - b), -2*(a - b)\n",
        "da_dw, db_dw = 2*(w + x + y + z), 2*(w + x - y - z)\n",
        "\n",
        "# Compute the final result from inputs to outputs\n",
        "du_dw, dv_dw = du_da*da_dw + du_db*db_dw, dv_da*da_dw + dv_db*db_dw\n",
        "df_dw = df_du*du_dw + df_dv*dv_dw\n",
        "print(f'df/dw at {w}, {x}, {y}, {z} is {df_dw}')"
      ],
      "metadata": {
        "id": "v3ok-DCGZIe2"
      },
      "id": "v3ok-DCGZIe2",
      "execution_count": null,
      "outputs": []
    },
    {
      "cell_type": "markdown",
      "source": [
        "However, note that this still does not make it easy to compute something like\n",
        "$\\frac{\\partial f}{\\partial x}$\n",
        "\n",
        "The reason for that is the way we chose to apply the chain rule. If we look at what we did above, we always kept $\\partial w$ in the denominator when we would. In this way, we chose to apply the chain rule seeing how changed every other variable. If that is what we wanted, this would be a good idea.\n",
        "\n",
        "However, think back to our motivation from deep learning: we want to see how very parameter changes the loss. In essence, we want to apply the chain rule keeping $\\partial f$ in the numerator whenever we can!\n",
        "\n",
        "To be more explicit, note that we can write\n",
        "\n",
        "\\begin{split}\\begin{aligned}\n",
        "\\frac{\\partial f}{\\partial w} & = \\frac{\\partial f}{\\partial a}\\frac{\\partial a}{\\partial w} + \\frac{\\partial f}{\\partial b}\\frac{\\partial b}{\\partial w}, \\\\\n",
        "\\frac{\\partial f}{\\partial a} & = \\frac{\\partial f}{\\partial u}\\frac{\\partial u}{\\partial a}+\\frac{\\partial f}{\\partial v}\\frac{\\partial v}{\\partial a}, \\\\\n",
        "\\frac{\\partial f}{\\partial b} & = \\frac{\\partial f}{\\partial u}\\frac{\\partial u}{\\partial b}+\\frac{\\partial f}{\\partial v}\\frac{\\partial v}{\\partial b}.\n",
        "\\end{aligned}\\end{split}\n",
        "\n",
        "Note that this application of the chain rule has us explicitly compute $\\frac{\\partial f}{\\partial u}, \\frac{\\partial f}{\\partial v}, \\frac{\\partial f}{\\partial a}, \\frac{\\partial f}{\\partial b}, \\; \\textrm{and} \\; \\frac{\\partial f}{\\partial w}$\n",
        "\n",
        "\\begin{split}\\begin{aligned}\n",
        "\\frac{\\partial f}{\\partial x} & = \\frac{\\partial f}{\\partial a}\\frac{\\partial a}{\\partial x} + \\frac{\\partial f}{\\partial b}\\frac{\\partial b}{\\partial x}, \\\\\n",
        "\\frac{\\partial f}{\\partial y} & = \\frac{\\partial f}{\\partial a}\\frac{\\partial a}{\\partial y}+\\frac{\\partial f}{\\partial b}\\frac{\\partial b}{\\partial y}, \\\\\n",
        "\\frac{\\partial f}{\\partial z} & = \\frac{\\partial f}{\\partial a}\\frac{\\partial a}{\\partial z}+\\frac{\\partial f}{\\partial b}\\frac{\\partial b}{\\partial z}.\n",
        "\\end{aligned}\\end{split}\n",
        "\n",
        "and then keeping track of how $f$ changes when we change any node in the entire network. Let’s implement it.\n",
        "\n"
      ],
      "metadata": {
        "id": "5B8IkM07ZKBm"
      },
      "id": "5B8IkM07ZKBm"
    },
    {
      "cell_type": "code",
      "source": [
        "# Compute the value of the function from inputs to outputs\n",
        "w, x, y, z = -1, 0, -2, 1\n",
        "a, b = (w + x + y + z)**2, (w + x - y - z)**2\n",
        "u, v = (a + b)**2, (a - b)**2\n",
        "f = (u + v)**2\n",
        "print(f'f at {w}, {x}, {y}, {z} is {f}')\n",
        "\n",
        "# Compute the derivative using the decomposition above\n",
        "# First compute the single step partials\n",
        "df_du, df_dv = 2*(u + v), 2*(u + v)\n",
        "du_da, du_db, dv_da, dv_db = 2*(a + b), 2*(a + b), 2*(a - b), -2*(a - b)\n",
        "da_dw, db_dw = 2*(w + x + y + z), 2*(w + x - y - z)\n",
        "da_dx, db_dx = 2*(w + x + y + z), 2*(w + x - y - z)\n",
        "da_dy, db_dy = 2*(w + x + y + z), -2*(w + x - y - z)\n",
        "da_dz, db_dz = 2*(w + x + y + z), -2*(w + x - y - z)\n",
        "\n",
        "# Now compute how f changes when we change any value from output to input\n",
        "df_da, df_db = df_du*du_da + df_dv*dv_da, df_du*du_db + df_dv*dv_db\n",
        "df_dw, df_dx = df_da*da_dw + df_db*db_dw, df_da*da_dx + df_db*db_dx\n",
        "df_dy, df_dz = df_da*da_dy + df_db*db_dy, df_da*da_dz + df_db*db_dz\n",
        "\n",
        "print(f'df/dw at {w}, {x}, {y}, {z} is {df_dw}')\n",
        "print(f'df/dx at {w}, {x}, {y}, {z} is {df_dx}')\n",
        "print(f'df/dy at {w}, {x}, {y}, {z} is {df_dy}')\n",
        "print(f'df/dz at {w}, {x}, {y}, {z} is {df_dz}')"
      ],
      "metadata": {
        "id": "YVSzkw1yZNM4"
      },
      "id": "YVSzkw1yZNM4",
      "execution_count": null,
      "outputs": []
    },
    {
      "cell_type": "markdown",
      "source": [
        "The fact that we compute derivatives from back towards the inputs rather than from the inputs forward to the outputs (as we did in the first code snippet above) is what gives this algorithm its name: backpropagation. Note that there are two steps:\n",
        "1. Compute the value of the function, and the single step partials from front to back. While not done above, this can be combined into a single **forward pass**.\n",
        "2. Compute the gradient of $f$ from back to front. We call this the **backwards pass**.\n",
        "\n",
        "<font color='red'>This is precisely what every deep learning algorithm implements to allow the computation of the gradient of the loss with respect to every weight in the network at one pass</font>\n",
        "\n",
        "\n",
        "\n",
        "To see how to encapsulated this, let’s take a quick look at this example."
      ],
      "metadata": {
        "id": "hiY-5yFBZPHA"
      },
      "id": "hiY-5yFBZPHA"
    },
    {
      "cell_type": "code",
      "source": [
        "# Initialize as ndarrays, then attach gradients\n",
        "w = torch.tensor([-1.], requires_grad=True)\n",
        "x = torch.tensor([0.], requires_grad=True)\n",
        "y = torch.tensor([-2.], requires_grad=True)\n",
        "z = torch.tensor([1.], requires_grad=True)\n",
        "# Do the computation like usual, tracking gradients\n",
        "a, b = (w + x + y + z)**2, (w + x - y - z)**2\n",
        "u, v = (a + b)**2, (a - b)**2\n",
        "f = (u + v)**2\n",
        "\n",
        "# Execute backward pass\n",
        "f.backward()\n",
        "\n",
        "print(f'df/dw at {w.data.item()}, {x.data.item()}, {y.data.item()}, '\n",
        "      f'{z.data.item()} is {w.grad.data.item()}')\n",
        "print(f'df/dx at {w.data.item()}, {x.data.item()}, {y.data.item()}, '\n",
        "      f'{z.data.item()} is {x.grad.data.item()}')\n",
        "print(f'df/dy at {w.data.item()}, {x.data.item()}, {y.data.item()}, '\n",
        "      f'{z.data.item()} is {y.grad.data.item()}')\n",
        "print(f'df/dz at {w.data.item()}, {x.data.item()}, {y.data.item()}, '\n",
        "      f'{z.data.item()} is {z.grad.data.item()}')"
      ],
      "metadata": {
        "id": "C6TSop0CZS7V"
      },
      "id": "C6TSop0CZS7V",
      "execution_count": null,
      "outputs": []
    },
    {
      "cell_type": "markdown",
      "source": [
        "### Backpropagation of Loss\n",
        "* The function we want to minimize or maximize is called the objective function or criterion. When we are minimizing it, we may also call it the cost function, loss function or error\n",
        "function.\n",
        "* Loss is the starting point of the backpropagation\n",
        "* Backpropagation is the method to minimize the loss function by adjusting network’s weights and biases. The level of adjustment is determined by the gradients of the loss function\n",
        "\n",
        "\n",
        "\n",
        "\n"
      ],
      "metadata": {
        "id": "tZiBOPM7ZVY1"
      },
      "id": "tZiBOPM7ZVY1"
    },
    {
      "cell_type": "code",
      "source": [
        "import matplotlib.pyplot as plt\n",
        "import numpy as np\n",
        "\n",
        "# Define the network structure\n",
        "input_neurons = 2\n",
        "hidden_neurons = 2\n",
        "output_neurons = 1\n",
        "\n",
        "# Weights and biases from the example\n",
        "weights_input_hidden = np.array([[0.15, 0.2], [0.25, 0.3]])  # w11, w12, w21, w22\n",
        "weights_hidden_output = np.array([0.4, 0.45])  # w_h1, w_h2\n",
        "bias_hidden = 0.35  # b_h\n",
        "bias_output = 0.6   # b_y\n",
        "\n",
        "# Set up the figure\n",
        "fig, ax = plt.subplots(figsize=(8, 6))\n",
        "\n",
        "# Positions for neurons in straight rows\n",
        "input_pos = np.array([[0, 0.75], [0, 0.25]])  # x1, x2\n",
        "hidden_pos = np.array([[0.5, 0.75], [0.5, 0.25]])  # h1, h2\n",
        "output_pos = np.array([[1, 0.5]])  # y\n",
        "\n",
        "# Draw neurons\n",
        "for pos in input_pos:\n",
        "    ax.add_patch(plt.Circle(pos, 0.05, color='blue', fill=True))\n",
        "for pos in hidden_pos:\n",
        "    ax.add_patch(plt.Circle(pos, 0.05, color='green', fill=True))\n",
        "for pos in output_pos:\n",
        "    ax.add_patch(plt.Circle(pos, 0.05, color='red', fill=True))\n",
        "\n",
        "# Draw connections and label weights with offset to avoid overlap\n",
        "for i in range(input_neurons):\n",
        "    for j in range(hidden_neurons):\n",
        "        ax.plot([input_pos[i][0], hidden_pos[j][0]], [input_pos[i][1], hidden_pos[j][1]], 'k-')\n",
        "        if i != j:\n",
        "            mid_x = (input_pos[i][0] + hidden_pos[j][0]) / 4\n",
        "            mid_y = (input_pos[i][1] + hidden_pos[j][1]) / (3 / (j + 1))\n",
        "            ax.text(mid_x , mid_y , f'w_{i+1}{j+1}={weights_input_hidden[i][j]}', fontsize=12, ha='center')\n",
        "            continue\n",
        "        # Calculate midpoint for label placement\n",
        "        mid_x = (input_pos[i][0] + hidden_pos[j][0]) / 2\n",
        "        mid_y = (input_pos[i][1] + hidden_pos[j][1]) / 2 + 0.02\n",
        "        ax.text(mid_x , mid_y , f'w_{i+1}{j+1}={weights_input_hidden[i][j]}', fontsize=12, ha='center')\n",
        "\n",
        "for i in range(hidden_neurons):\n",
        "    ax.plot([hidden_pos[i][0], output_pos[0][0]], [hidden_pos[i][1], output_pos[0][1]], 'k-')\n",
        "    # Label weights\n",
        "    mid_x = (hidden_pos[i][0] + output_pos[0][0]) / 2\n",
        "    mid_y = (hidden_pos[i][1] + output_pos[0][1]) / 2\n",
        "    ax.text(mid_x, mid_y, f'w_h{i+1}={weights_hidden_output[i]}', fontsize=12, ha='center')\n",
        "\n",
        "# Draw biases\n",
        "ax.text(hidden_pos[0][0] + 0.15, hidden_pos[0][1] + 0.1, f'b_h={bias_hidden}', fontsize=12, color='green')\n",
        "ax.text(output_pos[0][0] + 0.15, output_pos[0][1] + 0.1, f'b_y={bias_output}', fontsize=12, color='red')\n",
        "\n",
        "# Label neurons\n",
        "ax.text(input_pos[0][0] - 0.1, input_pos[0][1], 'x₁', fontsize=10)\n",
        "ax.text(input_pos[1][0] - 0.1, input_pos[1][1], 'x₂', fontsize=10)\n",
        "ax.text(hidden_pos[0][0], hidden_pos[0][1] + 0.1, 'h₁', fontsize=10)\n",
        "ax.text(hidden_pos[1][0], hidden_pos[1][1] + 0.1, 'h₂', fontsize=10)\n",
        "ax.text(output_pos[0][0] + 0.1, output_pos[0][1], 'y', fontsize=10)\n",
        "\n",
        "# Label layers\n",
        "ax.text(0, 1, 'Input Layer', fontsize=12, ha='center')\n",
        "ax.text(0.5, 1, 'Hidden Layer\\n(Sigmoid)', fontsize=12, ha='center')\n",
        "ax.text(1, 1, 'Output Layer\\n(Sigmoid)', fontsize=12, ha='center')\n",
        "\n",
        "# Set limits and remove axes\n",
        "ax.set_xlim(-0.2, 1.3)\n",
        "ax.set_ylim(0, 1)\n",
        "ax.axis('off')\n",
        "\n",
        "# Display the plot in Colab\n",
        "plt.show()"
      ],
      "metadata": {
        "id": "TBso2c67ZWAY"
      },
      "id": "TBso2c67ZWAY",
      "execution_count": null,
      "outputs": []
    },
    {
      "cell_type": "markdown",
      "source": [
        "For example, we simple feedforward neural network with one hidden layer. The network has:\n",
        "\n",
        "* Input layer: 2 neurons ($x_1$, $x_2$)\n",
        "* Hidden layer: 2 neurons ($h_1$, $h_2$) with sigmoid activation\n",
        "* Output layer: 1 neuron ($y$) with sigmoid activation\n",
        "* Loss function: Mean Squared Error (MSE)\n",
        "\n",
        "We’ll compute gradients and update weights for one training example with\n",
        "Input: $x = [x_1, x_2] = [0.5, 0.1]$. Target output: $t = 0.8$\n",
        "\n",
        "Weights and biases (randomly initialized):\n",
        "\n",
        "* Input to hidden: $w_{11} = 0.15$, $w_{12} = 0.2$, $w_{21} = 0.25$, $w_{22} = 0.3$\n",
        "\n",
        "* Hidden to output: $w_{h1} = 0.4$, $w_{h2} = 0.45$\n",
        "\n",
        "* Biases: $b_h = 0.35$ (hidden), $b_y = 0.6$ (output)\n",
        "\n",
        "* Learning rate: $\\eta = 0.5$\n",
        "\n",
        "* Activation function: Sigmoid, $\\sigma(z) = \\frac{1}{1 + e^{-z}}$,\n",
        "\n",
        "* Derivative: $\\sigma'(z) = \\sigma(z)(1 - \\sigma(z))$\n",
        "\n",
        "The network structure is:\n",
        "\n",
        "* Input: $x_1$, $x_2$\n",
        "\n",
        "* Hidden: $h_1 = \\sigma(w_{11}x_1 + w_{21}x_2 + b_h)$, $h_2 = \\sigma(w_{12}x_1 + w_{22}x_2 + b_h)$\n",
        "\n",
        "* Output: $y = \\sigma(w_{h1}h_1 + w_{h2}h_2 + b_y)$\n",
        "\n",
        "* Loss: $E = \\frac{1}{2}(t - y)^2$\n"
      ],
      "metadata": {
        "id": "P2eASNWOZZ12"
      },
      "id": "P2eASNWOZZ12"
    },
    {
      "cell_type": "markdown",
      "source": [
        "<font color='red'>Step 1: Forward Pass. Compute the activations of all neurons. </font>\n",
        "\n",
        "Hidden Layer:\n",
        "\n",
        "Net input to $h_1$:$$z_{h1} = w_{11}x_1 + w_{21}x_2 + b_h = (0.15)(0.5) + (0.25)(0.1) + 0.35 = 0.075 + 0.025 + 0.35 = 0.45$$$$h_1 = \\sigma(z_{h1}) = \\frac{1}{1 + e^{-0.45}} \\approx 0.6106$$\n",
        "\n",
        "Net input to $h_2$:$$z_{h2} = w_{12}x_1 + w_{22}x_2 + b_h = (0.2)(0.5) + (0.3)(0.1) + 0.35 = 0.1 + 0.03 + 0.35 = 0.48$$$$h_2 = \\sigma(z_{h2}) = \\frac{1}{1 + e^{-0.48}} \\approx 0.6177$$\n",
        "\n",
        "\n",
        "Output Layer:\n",
        "\n",
        "Net input to $y$:$$z_y = w_{h1}h_1 + w_{h2}h_2 + b_y = (0.4)(0.6106) + (0.45)(0.6177) + 0.6 \\approx 0.2442 + 0.2780 + 0.6 = 1.1222$$$$y = \\sigma(z_y) = \\frac{1}{1 + e^{-1.1222}} \\approx 0.7546$$\n",
        "\n",
        "Loss:$$E = \\frac{1}{2}(t - y)^2 = \\frac{1}{2}(0.8 - 0.7546)^2 = \\frac{1}{2}(0.0454)^2 \\approx 0.00103$$"
      ],
      "metadata": {
        "id": "WSvJIlH6ZdEF"
      },
      "id": "WSvJIlH6ZdEF"
    },
    {
      "cell_type": "markdown",
      "source": [
        "<font color='red'> Step 2: Backward Pass (Compute Gradients) </font>\n",
        "\n",
        "We compute the partial derivatives of the loss $E$ with respect to each weight and bias, starting from the output layer and moving backward.\n",
        "Output Layer Gradients:\n",
        "\n",
        "Error term for output neuron:$$\\delta_y = \\frac{\\partial E}{\\partial y} \\cdot \\sigma'(z_y)$$\n",
        "\n",
        "Loss derivative: $\\frac{\\partial E}{\\partial y} = -(t - y) = -(0.8 - 0.7546) = -0.0454$\n",
        "Sigmoid derivative: $\\sigma'(z_y) = y(1 - y) = 0.7546(1 - 0.7546) \\approx 0.1851$\n",
        "$\\delta_y = -0.0454 \\cdot 0.1851 \\approx -0.0084$\n",
        "\n",
        "\n",
        "Gradients for weights to output:$$\\frac{\\partial E}{\\partial w_{h1}} = \\delta_y \\cdot h_1 = -0.0084 \\cdot 0.6106 \\approx -0.00513$$$$\\frac{\\partial E}{\\partial w_{h2}} = \\delta_y \\cdot h_2 = -0.0084 \\cdot 0.6177 \\approx -0.00519$$\n",
        "\n",
        "Gradient for output bias:$$\\frac{\\partial E}{\\partial b_y} = \\delta_y = -0.0084$$\n",
        "\n",
        "\n",
        "Hidden Layer Gradients:\n",
        "\n",
        "Error terms for hidden neurons:$$\\delta_{h1} = \\left( w_{h1} \\cdot \\delta_y \\right) \\cdot \\sigma'(z_{h1})$$\n",
        "\n",
        "$w_{h1} \\cdot \\delta_y = 0.4 \\cdot (-0.0084) \\approx -0.00336$\n",
        "Sigmoid derivative: $\\sigma'(z_{h1}) = h_1(1 - h_1) = 0.6106(1 - 0.6106) \\approx 0.2379$\n",
        "$\\delta_{h1} = -0.00336 \\cdot 0.2379 \\approx -0.0008$\n",
        "\n",
        "$$\\delta_{h2} = \\left( w_{h2} \\cdot \\delta_y \\right) \\cdot \\sigma'(z_{h2})$$\n",
        "\n",
        "$w_{h2} \\cdot \\delta_y = 0.45 \\cdot (-0.0084) \\approx -0.00378$\n",
        "Sigmoid derivative: $\\sigma'(z_{h2}) = h_2(1 - h_2) = 0.6177(1 - 0.6177) \\approx 0.2362$\n",
        "$\\delta_{h2} = -0.00378 \\cdot 0.2362 \\approx -0.00089$\n",
        "\n",
        "\n",
        "Gradients for weights to hidden layer:$$\\frac{\\partial E}{\\partial w_{11}} = \\delta_{h1} \\cdot x_1 = -0.0008 \\cdot 0.5 \\approx -0.0004$$$$\\frac{\\partial E}{\\partial w_{21}} = \\delta_{h1} \\cdot x_2 = -0.0008 \\cdot 0.1 \\approx -0.00008$$$$\\frac{\\partial E}{\\partial w_{12}} = \\delta_{h2} \\cdot x_1 = -0.00089 \\cdot 0.5 \\approx -0.000445$$$$\\frac{\\partial E}{\\partial w_{22}} = \\delta_{h2} \\cdot x_2 = -0.00089 \\cdot 0.1 \\approx -0.000089$$\n",
        "\n",
        "Gradient for hidden bias:$$\\frac{\\partial E}{\\partial b_h} = \\delta_{h1} + \\delta_{h2} = -0.0008 + (-0.00089) \\approx -0.00169$$"
      ],
      "metadata": {
        "id": "wVOyJrRGZdjx"
      },
      "id": "wVOyJrRGZdjx"
    },
    {
      "cell_type": "markdown",
      "source": [
        "<font color='red'> Step 3: Update Weights and Biases </font>\n",
        "\n",
        "Using gradient descent: $w = w - \\eta \\cdot \\frac{\\partial E}{\\partial w}$.\n",
        "Output Layer:\n",
        "\n",
        "$w_{h1} = 0.4 - 0.5 \\cdot (-0.00513) = 0.4 + 0.002565 \\approx 0.4026$\n",
        "$w_{h2} = 0.45 - 0.5 \\cdot (-0.00519) = 0.45 + 0.002595 \\approx 0.4526$\n",
        "$b_y = 0.6 - 0.5 \\cdot (-0.0084) = 0.6 + 0.0042 \\approx 0.6042$\n",
        "\n",
        "Hidden Layer:\n",
        "\n",
        "$w_{11} = 0.15 - 0.5 \\cdot (-0.0004) = 0.15 + 0.0002 \\approx 0.1502$\n",
        "$w_{21} = 0.25 - 0.5 \\cdot (-0.00008) = 0.25 + 0.00004 \\approx 0.25004$\n",
        "$w_{12} = 0.2 - 0.5 \\cdot (-0.000445) = 0.2 + 0.0002225 \\approx 0.2002$\n",
        "$w_{22} = 0.3 - 0.5 \\cdot (-0.000089) = 0.3 + 0.0000445 \\approx 0.30004$\n",
        "$b_h = 0.35 - 0.5 \\cdot (-0.00169) = 0.35 + 0.000845 \\approx 0.3508$"
      ],
      "metadata": {
        "id": "AOTu4bucZg9W"
      },
      "id": "AOTu4bucZg9W"
    },
    {
      "cell_type": "markdown",
      "source": [
        "### Backpropagation Application & Problems\n",
        "\n",
        "#### Applications of Backpropagation\n",
        "\n",
        "### In Machine Learning (ML)\n",
        "* Backpropagation is the backbone of training artificial neural networks (ANNs) and is widely used across ML domains:\n",
        "\n",
        "    - **Image Recognition**: Optimizes weights in convolutional neural networks (CNNs) for tasks like object detection (e.g., identifying objects in images).\n",
        "    - **Natural Language Processing (NLP)**: Adjusts weights in recurrent neural networks (RNNs) and transformers for tasks like machine translation and text generation.\n",
        "    - **Speech Recognition**: Fine-tunes deep neural networks to convert audio to text by minimizing prediction errors.\n",
        "* **Control Systems**: Optimizes parameters in control algorithms for robotics or autonomous systems, adjusting to minimize error in system dynamics.\n",
        "  \n",
        "  $E = \\frac{1}{2} (y_{\\text{desired}} - y_{\\text{actual}})^2$\n",
        "  \n",
        "- **Physics Simulations**: Used to fit models to experimental data, such as optimizing parameters in computational fluid dynamics.\n",
        "- **Economics**: Adjusts weights in econometric models to predict economic trends or optimize resource allocation.\n",
        "- **Signal Processing**: Fine-tunes filters in adaptive signal processing to minimize noise in communication systems.\n",
        "\n",
        "#### Problems and Challenges with Backpropagation\n",
        "- **Vanishing/Exploding Gradients**: Throughout Backpropagation workflow, gradients are multiplied across layers, this can lead to two extreme cases:\n",
        "\n",
        "    Gradients can shrink $( \\frac{\\partial E}{\\partial w} \\to 0 )$ or grow  $( \\frac{\\partial E}{\\partial w} \\to \\infty )$\n",
        "\n",
        "<font color='red'>This is also called Backpropagation through Time Problem (BPTT)</font>.\n",
        "\n",
        "- **Overfitting**: Models may memorize training data, requiring regularization like dropout.\n",
        "\n",
        "- **Computational Complexity**: Training large networks demands significant computational resources (e.g., GPUs).\n",
        "- **Local Minima**: The algorithm may converge to suboptimal solutions, though this is less critical in high-dimensional spaces.\n",
        "\n",
        "  $E(w) = \\frac{1}{2} \\sum (t - y)^2$\n",
        "\n",
        "- **Initialization Sensitivity**: Poor weight initialization can lead to slow convergence, addressed by methods like Xavier initialization.\n",
        "\n",
        "Backpropagation’s versatility makes it a powerful tool across domains, though its challenges require tailored solutions depending on the application."
      ],
      "metadata": {
        "id": "Oy5xEMdqZlV3"
      },
      "id": "Oy5xEMdqZlV3"
    },
    {
      "cell_type": "markdown",
      "source": [
        "## Comparision & Summary"
      ],
      "metadata": {
        "id": "pJ6EfSKBZn1o"
      },
      "id": "pJ6EfSKBZn1o"
    },
    {
      "cell_type": "markdown",
      "source": [
        "\n",
        "### Comparison between other Differentiation methods\n",
        "1. Compare to Numerical Differentiation:\n",
        "\n",
        "| **Aspect**               | **Numerical Differentiation**                              | **Automatic Differentiation**                            |\n",
        "|---------------------------|-----------------------------------------------------------|--------------------------------------------------------|\n",
        "| **Accuracy**             | Approximates derivatives (e.g., $ f'(x) \\approx \\frac{f(x + h) - f(x)}{h} $). Prone to round-off and truncation errors, accuracy decreases with complex functions or noisy data. | Exact derivatives up to machine precision via computational graph. Avoids approximation errors. |\n",
        "| **Computational Efficiency** | Requires $ O(n) $ function evaluations for $ n $ parameters (e.g., central differences). Inefficient for **high-dimensional problems**. | Operates at the cost of function evaluation, $ O(n) $ for forward mode or $ O(n) $ per output in reverse mode. **Highly efficient for complex models**. |\n",
        "| **Implementation Complexity** | Simple to implement (e.g., finite difference formula). Requires tuning step size $ h $ to balance accuracy and error. | Requires computational graph (handled by frameworks like TensorFlow or PyTorch). Complex manually but integrated into ML libraries. |\n",
        "| **Applicability**        | Suitable for simple functions or black-box models where derivatives are unavailable. Struggles with high-dimensional or noisy data. | Excels in ML, optimizing deep networks with thousands of parameters. Applicable to any computable function, including those with control flow. |\n",
        "| **Memory Usage**         | Minimal memory, stores only function evaluations.         | Moderate to high memory usage (forward mode stores intermediates, reverse mode stores graph). Scales with outputs in reverse mode. |\n",
        "| **Mathematical Insight** | $ f'(x) \\approx \\frac{f(x + h) - f(x - h)}{2h} $ (error $ O(h^2) $). | Computes $ \\frac{\\partial E}{\\partial w} $ by chaining partial derivatives (e.g., $ \\frac{\\partial E}{\\partial w} = \\frac{\\partial E}{\\partial y} \\cdot \\frac{\\partial y}{\\partial w} $), exact and efficient. |\n",
        "\n",
        "2. Compare to Symbolic Differentiation:\n",
        "\n",
        "| **Aspect**               | **Symbolic Differentiation**                              | **Automatic Differentiation**                            |\n",
        "|---------------------------|-----------------------------------------------------------|--------------------------------------------------------|\n",
        "| **Accuracy**             | Provides exact derivatives (e.g., $ \\frac{d}{dx}(x^2) = 2x $). No approximation errors, but suffers from expression swell with large expressions. | Delivers exact derivatives up to machine precision via computational graph. |\n",
        "| **Computational Efficiency** | Computationally expensive due to symbolic manipulation and simplification. Exponential growth in complexity with nested functions. | Operates at the cost of function evaluation, $ O(n) $ for forward mode or $ O(n) $ per output in reverse mode. Highly efficient for complex models. |\n",
        "| **Implementation Complexity** | Requires a symbolic math engine (e.g., SymPy), complex for large systems. Impractical for dynamic computations. | Requires computational graph (handled by frameworks like TensorFlow or PyTorch). Complex manually but integrated into ML libraries. |\n",
        "| **Applicability**        | Ideal for analytical derivations or small, static expressions. Impractical for large-scale, data-driven models. | Excels in ML, optimizing deep networks with thousands of parameters. Applicable to any computable function, including those with control flow. |\n",
        "| **Memory Usage**         | High memory usage due to storing symbolic expressions.   | Moderate to high memory usage (forward mode stores intermediates, reverse mode stores graph). Scales with outputs in reverse mode. |\n",
        "| **Mathematical Insight** | $ \\frac{d}{dx}(e^{x^2}) = 2x e^{x^2} $, exact but grows with complexity. | Computes $ \\frac{\\partial E}{\\partial w} $ by chaining partial derivatives (e.g., $ \\frac{\\partial E}{\\partial w} = \\frac{\\partial E}{\\partial y} \\cdot \\frac{\\partial y}{\\partial w} $), exact and efficient. |\n",
        "\n",
        "3. Insights:\n",
        "- **Numerical Differentiation** is simple but inaccurate and inefficient for large systems.\n",
        "- **Symbolic Differentiation** is precise but impractical for dynamic, large-scale problems.\n",
        "- **Automatic Differentiation** strikes a balance, offering exactness and efficiency, making it the preferred choice for modern machine."
      ],
      "metadata": {
        "id": "klgwUFMJZooY"
      },
      "id": "klgwUFMJZooY"
    },
    {
      "cell_type": "markdown",
      "source": [
        "### Comparison between Forward and Backward mode\n",
        "| Feature                     | Forward Mode AD                          | Backward Mode AD                         |\n",
        "|-----------------------------|------------------------------------------|------------------------------------------|\n",
        "| **Definition**              | Computes derivatives alongside function evaluation, propagating derivatives forward. | Computes derivatives by backpropagating gradients from output to input. |\n",
        "| **Computation Direction**   | Forward: from inputs to outputs.         | Backward: from outputs to inputs.        |\n",
        "| **Derivative Propagation**  | Accumulates derivatives (tangents) during forward pass. | Accumulates gradients during backward pass. |\n",
        "| **Efficiency**              | Efficient for functions with few inputs and many outputs (e.g., $ f: \\mathbb{R}^n \\to \\mathbb{R}^m $, $ n \\ll m $). | Efficient for functions with many inputs and few outputs (e.g., $ f: \\mathbb{R}^n \\to \\mathbb{R}^m $, $ n \\gg m $). |\n",
        "| **Memory Usage**            | Lower memory for small input dimensions; stores intermediate tangents. | Higher memory; stores intermediate activations for backward pass. |\n",
        "| **Use Case**                | Real-time systems, sensitivity analysis for small input spaces. | Neural network training, optimization problems with scalar loss. |\n",
        "| **Implementation Complexity** | Simpler to implement for small systems.  | More complex, requires reverse computation graph. |\n",
        "| **Example Application**     | Computing Jacobians for small systems.   | Gradient computation in deep learning.   |\n",
        "| **Scalability**             | Scales poorly with large input dimensions. | Scales well with large input dimensions. |\n",
        "\n",
        "### Recommended usage for each mode\n",
        "**Forward Mode:**\n",
        "* Good when you have a small number of inputs (e.g., 2–3 parameters).\n",
        "* Ideal for Jacobian-vector products: e.g., computing directional derivatives.\n",
        "\n",
        "**Backward Mode:**\n",
        "* When you have many inputs and one output (e.g., loss function in neural nets).\n",
        "* Ideal for training machine learning models (via backpropagation).\n",
        "\n"
      ],
      "metadata": {
        "id": "RUrH3j_uZsvd"
      },
      "id": "RUrH3j_uZsvd"
    },
    {
      "cell_type": "markdown",
      "source": [
        "# Visualization\n",
        "\n"
      ],
      "metadata": {
        "id": "9o5Q0ZG0KVQ2"
      },
      "id": "9o5Q0ZG0KVQ2"
    },
    {
      "cell_type": "code",
      "source": [
        "!pip install autograd\n"
      ],
      "metadata": {
        "id": "DDDVLs0lbpPW"
      },
      "id": "DDDVLs0lbpPW",
      "execution_count": null,
      "outputs": []
    },
    {
      "cell_type": "code",
      "source": [
        "import autograd.numpy as np # Sử dụng numpy của autograd\n",
        "from autograd import grad\n",
        "\n",
        "def my_function(x):\n",
        "  return np.sin(x)\n",
        "\n",
        "# Tạo hàm tính đạo hàm bằng grad\n",
        "grad_my_function = grad(my_function)\n",
        "\n",
        "# Tính đạo hàm tại x = pi/3\n",
        "x_value = np.pi / 3\n",
        "derivative_at_x = grad_my_function(x_value)\n",
        "\n",
        "print(f\"Hàm số: f(x) = sin(x)\")\n",
        "print(f\"Giá trị x: {x_value:.4f} (tức là pi/3)\")\n",
        "print(f\"Đạo hàm f'(x) tại x = pi/3 là: {derivative_at_x:.4f}\") # cos(pi/3) = 0.5\n",
        "print(f\"Giá trị cos(pi/3) để so sánh: {np.cos(x_value):.4f}\")"
      ],
      "metadata": {
        "id": "B4NbpYRnbqzF"
      },
      "id": "B4NbpYRnbqzF",
      "execution_count": null,
      "outputs": []
    },
    {
      "cell_type": "code",
      "source": [
        "import autograd.numpy as np\n",
        "from autograd import grad\n",
        "\n",
        "def f(x):\n",
        "  return x**3\n",
        "\n",
        "# Đạo hàm bậc 1\n",
        "grad_f = grad(f)\n",
        "\n",
        "# Đạo hàm bậc 2\n",
        "grad_f_order_2 = grad(grad_f)\n",
        "\n",
        "# Đạo hàm bậc 3\n",
        "grad_f_order_3 = grad(grad_f_order_2)\n",
        "\n",
        "x_value = 2.0\n",
        "print(f\"Hàm số: f(x) = x^3\")\n",
        "print(f\"Giá trị x: {x_value}\")\n",
        "print(f\"f'(x) = 3*x^2, tại x={x_value}, f'({x_value}) = {grad_f(x_value)}\") # 3 * 2^2 = 12\n",
        "# Sửa tên biến trong print:\n",
        "print(f\"f''(x) = 6*x, tại x={x_value}, f''({x_value}) = {grad_f_order_2(x_value)}\") # 6 * 2 = 12\n",
        "# Sửa tên biến trong print:\n",
        "print(f\"f'''(x) = 6, tại x={x_value}, f'''({x_value}) = {grad_f_order_3(x_value)}\") # 6\n"
      ],
      "metadata": {
        "id": "6IngIbrwbraH"
      },
      "id": "6IngIbrwbraH",
      "execution_count": null,
      "outputs": []
    },
    {
      "cell_type": "code",
      "source": [
        "import autograd.numpy as np\n",
        "from autograd import grad\n",
        "\n",
        "# Hàm này nhận vào một vector (hoặc tuple) các tham số\n",
        "# Mặc định, grad sẽ tính đạo hàm theo tham số đầu tiên (argnum=0)\n",
        "# Để tính theo các tham số khác, hoặc nhiều tham số, cần chỉ định\n",
        "\n",
        "def multi_var_func(params):\n",
        "  x1, x2 = params # params là một array/list/tuple [x1, x2]\n",
        "  return x1**2 * x2 + np.sin(x1)\n",
        "\n",
        "# Tính gradient theo `params` (là một vector)\n",
        "grad_multi_var = grad(multi_var_func)\n",
        "\n",
        "params_values = np.array([1.0, 2.0]) # x1 = 1.0, x2 = 2.0\n",
        "gradient_values = grad_multi_var(params_values)\n",
        "\n",
        "print(f\"Hàm số: f(x1, x2) = x1^2 * x2 + sin(x1)\")\n",
        "print(f\"Giá trị (x1, x2): ({params_values[0]}, {params_values[1]})\")\n",
        "print(f\"Gradient (df/dx1, df/dx2) tại điểm đó là: {gradient_values}\")\n",
        "\n",
        "# Kiểm tra bằng tay:\n",
        "# df/dx1 = 2*x1*x2 + cos(x1) = 2*1*2 + cos(1) = 4 + 0.5403 = 4.5403\n",
        "# df/dx2 = x1^2 = 1^2 = 1\n",
        "# Nên gradient là [4.5403, 1.0]\n",
        "print(f\"Kiểm tra df/dx1: {2*params_values[0]*params_values[1] + np.cos(params_values[0]):.4f}\")\n",
        "print(f\"Kiểm tra df/dx2: {params_values[0]**2:.4f}\")\n",
        "\n",
        "# Nếu hàm của bạn nhận các biến riêng lẻ thay vì một vector:\n",
        "# def multi_var_func_v2(x1, x2):\n",
        "# return x1**2 * x2 + np.sin(x1)\n",
        "\n",
        "# grad_v2_dx1 = grad(multi_var_func_v2, argnum=0) # Đạo hàm theo x1\n",
        "# grad_v2_dx2 = grad(multi_var_func_v2, argnum=1) # Đạo hàm theo x2\n",
        "# print(f\"df/dx1 (cách 2): {grad_v2_dx1(1.0, 2.0)}\")\n",
        "# print(f\"df/dx2 (cách 2): {grad_v2_dx2(1.0, 2.0)}\")"
      ],
      "metadata": {
        "id": "PpxCPddBbsxV"
      },
      "id": "PpxCPddBbsxV",
      "execution_count": null,
      "outputs": []
    },
    {
      "cell_type": "code",
      "source": [
        "import autograd.numpy as np\n",
        "from autograd import grad\n",
        "import matplotlib.pyplot as plt # Để vẽ đồ thị\n",
        "\n",
        "# Dữ liệu giả lập\n",
        "X_data = np.array([1.0, 1.5, 2.0, 2.5, 3.0, 3.5, 4.0, 4.5, 5.0, 5.5])\n",
        "Y_data = np.array([1.1, 1.8, 2.2, 2.8, 3.1, 3.9, 4.2, 4.9, 5.3, 6.0])\n",
        "\n",
        "# Hàm mô hình tuyến tính\n",
        "def linear_model(params, x):\n",
        "  w, b = params\n",
        "  return w * x + b\n",
        "\n",
        "# Hàm mất mát (Mean Squared Error - MSE)\n",
        "def mse_loss(params): # params là (w, b)\n",
        "  predictions = linear_model(params, X_data)\n",
        "  return np.mean((predictions - Y_data)**2)\n",
        "\n",
        "# Tính gradient của hàm mất mát theo params (w,b)\n",
        "gradient_loss = grad(mse_loss)\n",
        "\n",
        "# Khởi tạo tham số\n",
        "# np.random.seed(42) # Để kết quả có thể lặp lại\n",
        "params = np.array([np.random.rand(), np.random.rand()]) # [w, b] ngẫu nhiên\n",
        "# Hoặc khởi tạo cụ thể\n",
        "# params = np.array([0.5, 0.5])\n",
        "\n",
        "\n",
        "learning_rate = 0.01\n",
        "num_epochs = 200\n",
        "loss_history = []\n",
        "\n",
        "print(f\"Tham số ban đầu (w,b): {params}\")\n",
        "\n",
        "for epoch in range(num_epochs):\n",
        "  # Tính gradient\n",
        "  gradients = gradient_loss(params)\n",
        "\n",
        "  # Cập nhật tham số\n",
        "  params = params - learning_rate * gradients\n",
        "\n",
        "  # Ghi lại loss\n",
        "  current_loss = mse_loss(params)\n",
        "  loss_history.append(current_loss)\n",
        "\n",
        "  if (epoch + 1) % 20 == 0:\n",
        "    print(f\"Epoch {epoch+1}/{num_epochs}, Loss: {current_loss:.4f}, w: {params[0]:.4f}, b: {params[1]:.4f}\")\n",
        "\n",
        "print(f\"Tham số tối ưu (w,b): {params}\")\n",
        "print(f\"Loss cuối cùng: {mse_loss(params):.4f}\")\n",
        "\n",
        "# Trực quan hóa (Visualization)\n",
        "plt.figure(figsize=(10, 6))\n",
        "\n",
        "# Đồ thị loss\n",
        "plt.subplot(1, 2, 1)\n",
        "plt.plot(loss_history)\n",
        "plt.title(\"Loss qua các Epoch\")\n",
        "plt.xlabel(\"Epoch\")\n",
        "plt.ylabel(\"Mean Squared Error\")\n",
        "\n",
        "# Đồ thị dữ liệu và đường hồi quy\n",
        "plt.subplot(1, 2, 2)\n",
        "plt.scatter(X_data, Y_data, label='Dữ liệu thực tế')\n",
        "plt.plot(X_data, linear_model(params, X_data), color='red', label='Đường hồi quy tìm được')\n",
        "plt.title(\"Hồi quy tuyến tính\")\n",
        "plt.xlabel(\"X\")\n",
        "plt.ylabel(\"Y\")\n",
        "plt.legend()\n",
        "\n",
        "plt.tight_layout()\n",
        "plt.show()"
      ],
      "metadata": {
        "id": "S4yLn8MUbyEu"
      },
      "id": "S4yLn8MUbyEu",
      "execution_count": null,
      "outputs": []
    },
    {
      "cell_type": "markdown",
      "source": [
        "!pip uninstall -y autograd\n",
        "!pip install --no-cache-dir autograd"
      ],
      "metadata": {
        "id": "zqaH5fuNb093"
      },
      "id": "zqaH5fuNb093"
    },
    {
      "cell_type": "code",
      "source": [
        "\n",
        "# Bước 1: Import các thư viện cần thiết\n",
        "import autograd.numpy as np # Quan trọng: dùng numpy của autograd\n",
        "from autograd import make_jvp # Sử dụng make_jvp cho autograd 1.8.0+\n",
        "import matplotlib.pyplot as plt\n",
        "from mpl_toolkits.mplot3d import Axes3D # Cho vẽ đồ thị 3D nếu bạn muốn mở rộng\n",
        "\n",
        "# Bước 2: Định nghĩa hàm số f(x1, x2)\n",
        "def f(params):\n",
        "  x1, x2 = params\n",
        "  return x1 * np.sin(x2)\n",
        "\n",
        "# Bước 3: Chọn điểm để tính đạo hàm\n",
        "x1_val = 2.0\n",
        "x2_val = np.pi / 3 # Khoảng 1.047 rad (60 độ)\n",
        "point = np.array([x1_val, x2_val]) # Tạo array từ autograd.numpy\n",
        "\n",
        "print(f\"Hàm số: f(x1, x2) = x1 * sin(x2)\")\n",
        "print(f\"Tại điểm (x1, x2) = ({x1_val:.2f}, {x2_val:.2f})\\n\")\n",
        "\n",
        "# --- Bước 4: Tính đạo hàm riêng theo x1 (Forward mode pass 1) ---\n",
        "# Seed vector cho x1: v = (1.0, 0.0)\n",
        "seed_vector_x1 = np.array([1.0, 0.0]) # Tạo array từ autograd.numpy\n",
        "\n",
        "# 4.1: Tạo \"trình xây dựng JVP\" cho hàm f\n",
        "jvp_builder_for_f = make_jvp(f) # Mặc định argnum=0 (đạo hàm theo 'params')\n",
        "\n",
        "# 4.2: Áp dụng giá trị đầu vào (point) cho trình xây dựng.\n",
        "# Hàm này sẽ trả về một hàm mới chờ vector tiếp tuyến 'g'.\n",
        "jvp_calculator_at_point_x1 = jvp_builder_for_f(point)\n",
        "\n",
        "# 4.3: Gọi hàm mới này với seed_vector_x1 (chính là 'g') để nhận kết quả\n",
        "primal_output_x1, tangent_output_x1 = jvp_calculator_at_point_x1(seed_vector_x1)\n",
        "\n",
        "print(f\"Giá trị hàm f(x1, x2) tại điểm đang xét = {primal_output_x1:.4f}\")\n",
        "print(f\"Đạo hàm riêng df/dx1 (tính bằng Forward Mode): {tangent_output_x1:.4f}\")\n",
        "\n",
        "# Kiểm tra bằng giải tích: df/dx1 = sin(x2)\n",
        "analytical_dfdx1 = np.sin(x2_val)\n",
        "print(f\"So sánh với giải tích: df/dx1 = sin({x2_val:.2f}) = {analytical_dfdx1:.4f}\\n\")\n",
        "\n",
        "\n",
        "# --- Bước 5: Tính đạo hàm riêng theo x2 (Forward mode pass 2) ---\n",
        "# Seed vector cho x2: v = (0.0, 1.0)\n",
        "seed_vector_x2 = np.array([0.0, 1.0]) # Tạo array từ autograd.numpy\n",
        "\n",
        "# Sử dụng lại jvp_builder_for_f và point\n",
        "jvp_calculator_at_point_x2 = jvp_builder_for_f(point)\n",
        "primal_output_x2, tangent_output_x2 = jvp_calculator_at_point_x2(seed_vector_x2)\n",
        "\n",
        "# Lưu ý: primal_output_x2 sẽ giống primal_output_x1 vì hàm và điểm tính toán là như nhau\n",
        "print(f\"Đạo hàm riêng df/dx2 (tính bằng Forward Mode): {tangent_output_x2:.4f}\")\n",
        "\n",
        "# Kiểm tra bằng giải tích: df/dx2 = x1 * cos(x2)\n",
        "analytical_dfdx2 = x1_val * np.cos(x2_val)\n",
        "print(f\"So sánh với giải tích: df/dx2 = {x1_val:.2f} * cos({x2_val:.2f}) = {analytical_dfdx2:.4f}\\n\")\n",
        "\n",
        "# --- Bước 6: Vẽ đồ thị minh họa ---\n",
        "plt.figure(figsize=(14, 6))\n",
        "\n",
        "# Đồ thị minh họa cho df/dx1\n",
        "plt.subplot(1, 2, 1)\n",
        "x1_range_plot = np.linspace(x1_val - 1.5, x1_val + 1.5, 100)\n",
        "# Giữ x2 cố định tại x2_val\n",
        "y_values_for_dx1_plot = np.array([f(np.array([x_plot, x2_val])) for x_plot in x1_range_plot])\n",
        "plt.plot(x1_range_plot, y_values_for_dx1_plot, label=f'$f(x_1, x_2={x2_val:.2f})$')\n",
        "plt.scatter([x1_val], [primal_output_x1], color='red', s=50, zorder=5, label=f'Điểm $( {x1_val:.2f}, {primal_output_x1:.2f} )$')\n",
        "\n",
        "# Vẽ đường tiếp tuyến cho df/dx1\n",
        "tangent_line_x1_plot = primal_output_x1 + tangent_output_x1 * (x1_range_plot - x1_val)\n",
        "plt.plot(x1_range_plot, tangent_line_x1_plot, 'r--', label=f'Tiếp tuyến (slope = $\\\\partial f/\\\\partial x_1 \\\\approx {tangent_output_x1:.2f}$)')\n",
        "plt.xlabel(\"$x_1$\")\n",
        "plt.ylabel(f'$f(x_1, x_{{2o}}={x2_val:.2f})$') # Sử dụng {{}} để hiển thị {2o}\n",
        "plt.title(f'Minh họa $\\\\partial f/\\\\partial x_1$ tại $(x_1={x1_val:.2f}, x_2={x2_val:.2f})$')\n",
        "plt.legend()\n",
        "plt.grid(True)\n",
        "\n",
        "# Đồ thị minh họa cho df/dx2\n",
        "plt.subplot(1, 2, 2)\n",
        "x2_range_plot = np.linspace(x2_val - np.pi/2, x2_val + np.pi/2, 100)\n",
        "# Giữ x1 cố định tại x1_val\n",
        "y_values_for_dx2_plot = np.array([f(np.array([x1_val, x_plot])) for x_plot in x2_range_plot])\n",
        "plt.plot(x2_range_plot, y_values_for_dx2_plot, label=f'$f(x_1={x1_val:.2f}, x_2)$')\n",
        "plt.scatter([x2_val], [primal_output_x2], color='red', s=50, zorder=5, label=f'Điểm $( {x2_val:.2f}, {primal_output_x2:.2f} )$')\n",
        "\n",
        "# Vẽ đường tiếp tuyến cho df/dx2\n",
        "tangent_line_x2_plot = primal_output_x2 + tangent_output_x2 * (x2_range_plot - x2_val)\n",
        "plt.plot(x2_range_plot, tangent_line_x2_plot, 'r--', label=f'Tiếp tuyến (slope = $\\\\partial f/\\\\partial x_2 \\\\approx {tangent_output_x2:.2f}$)')\n",
        "plt.xlabel(\"$x_2$\")\n",
        "plt.ylabel(f'$f(x_{{1o}}={x1_val:.2f}, x_2)$') # Sử dụng {{}} để hiển thị {1o}\n",
        "plt.title(f'Minh họa $\\\\partial f/\\\\partial x_2$ tại $(x_1={x1_val:.2f}, x_2={x2_val:.2f})$')\n",
        "plt.legend()\n",
        "plt.grid(True)\n",
        "\n",
        "plt.tight_layout()\n",
        "plt.show()"
      ],
      "metadata": {
        "id": "wMS_GFb_b3L_"
      },
      "id": "wMS_GFb_b3L_",
      "execution_count": null,
      "outputs": []
    },
    {
      "cell_type": "markdown",
      "source": [
        "# Exercises (1-4)\n",
        "\n",
        "1. Why is the second derivative much more expensive to compute than the first derivative?\n",
        "1. After running the function for backpropagation, immediately run it again and see what happens. Investigate.\n",
        "1. In the control flow example where we calculate the derivative of `d` with respect to `a`, what would happen if we changed the variable `a` to a random vector or a matrix? At this point, the result of the calculation `f(a)` is no longer a scalar. What happens to the result? How do we analyze this?\n",
        "1. Let $f(x) = \\sin(x)$. Plot the graph of $f$ and of its derivative $f'$. Do not exploit the fact that $f'(x) = \\cos(x)$ but rather use automatic differentiation to get the result.\n",
        "\n"
      ],
      "metadata": {
        "id": "hk4f988CNvh7"
      },
      "id": "hk4f988CNvh7"
    },
    {
      "cell_type": "markdown",
      "source": [
        "# Exercises (5-8)\n",
        "1. Let $f(x) = ((\\log x^2) \\cdot \\sin x) + x^{-1}$. Write out a dependency graph tracing results from $x$ to $f(x)$.\n",
        "1. Use the chain rule to compute the derivative $\\frac{df}{dx}$ of the aforementioned function, placing each term on the dependency graph that you constructed previously.\n",
        "1. Given the graph and the intermediate derivative results, you have a number of options when computing the gradient. Evaluate the result once starting from $x$ to $f$ and once from $f$ tracing back to $x$. The path from $x$ to $f$ is commonly known as *forward differentiation*, whereas the path from $f$ to $x$ is known as backward differentiation.\n",
        "1. When might you want to use forward, and when backward, differentiation? Hint: consider the amount of intermediate data needed, the ability to parallelize steps, and the size of matrices and vectors involved."
      ],
      "metadata": {
        "id": "KievrNAtN8MC"
      },
      "id": "KievrNAtN8MC"
    },
    {
      "cell_type": "markdown",
      "id": "4144c129",
      "metadata": {
        "origin_pos": 1,
        "id": "4144c129"
      },
      "source": [
        "***Reference: origin notebook of d2l as below***\n",
        "\n",
        "# Automatic Differentiation\n",
        ":label:`sec_autograd`\n",
        "\n",
        "Recall from :numref:`sec_calculus`\n",
        "that calculating derivatives is the crucial step\n",
        "in all the optimization algorithms\n",
        "that we will use to train deep networks.\n",
        "While the calculations are straightforward,\n",
        "working them out by hand can be tedious and error-prone,\n",
        "and these issues only grow\n",
        "as our models become more complex.\n",
        "\n",
        "Fortunately all modern deep learning frameworks\n",
        "take this work off our plates\n",
        "by offering *automatic differentiation*\n",
        "(often shortened to *autograd*).\n",
        "As we pass data through each successive function,\n",
        "the framework builds a *computational graph*\n",
        "that tracks how each value depends on others.\n",
        "To calculate derivatives,\n",
        "automatic differentiation\n",
        "works backwards through this graph\n",
        "applying the chain rule.\n",
        "The computational algorithm for applying the chain rule\n",
        "in this fashion is called *backpropagation*.\n",
        "\n",
        "While autograd libraries have become\n",
        "a hot concern over the past decade,\n",
        "they have a long history.\n",
        "In fact the earliest references to autograd\n",
        "date back over half of a century :cite:`Wengert.1964`.\n",
        "The core ideas behind modern backpropagation\n",
        "date to a PhD thesis from 1980 :cite:`Speelpenning.1980`\n",
        "and were further developed in the late 1980s :cite:`Griewank.1989`.\n",
        "While backpropagation has become the default method\n",
        "for computing gradients, it is not the only option.\n",
        "For instance, the Julia programming language employs\n",
        "forward propagation :cite:`Revels.Lubin.Papamarkou.2016`.\n",
        "Before exploring methods,\n",
        "let's first master the autograd package.\n"
      ]
    },
    {
      "cell_type": "code",
      "execution_count": null,
      "id": "130439cd",
      "metadata": {
        "execution": {
          "iopub.execute_input": "2023-08-18T19:26:08.286501Z",
          "iopub.status.busy": "2023-08-18T19:26:08.285693Z",
          "iopub.status.idle": "2023-08-18T19:26:10.052257Z",
          "shell.execute_reply": "2023-08-18T19:26:10.050994Z"
        },
        "origin_pos": 3,
        "tab": [
          "pytorch"
        ],
        "id": "130439cd"
      },
      "outputs": [],
      "source": [
        "import torch"
      ]
    },
    {
      "cell_type": "markdown",
      "id": "e2ab3850",
      "metadata": {
        "origin_pos": 6,
        "id": "e2ab3850"
      },
      "source": [
        "## A Simple Function\n",
        "\n",
        "Let's assume that we are interested\n",
        "in (**differentiating the function\n",
        "$y = 2\\mathbf{x}^{\\top}\\mathbf{x}$\n",
        "with respect to the column vector $\\mathbf{x}$.**)\n",
        "To start, we assign `x` an initial value.\n"
      ]
    },
    {
      "cell_type": "code",
      "execution_count": null,
      "id": "4253cfab",
      "metadata": {
        "attributes": {
          "classes": [],
          "id": "",
          "n": "7"
        },
        "execution": {
          "iopub.execute_input": "2023-08-18T19:26:10.056833Z",
          "iopub.status.busy": "2023-08-18T19:26:10.055871Z",
          "iopub.status.idle": "2023-08-18T19:26:10.084858Z",
          "shell.execute_reply": "2023-08-18T19:26:10.083727Z"
        },
        "origin_pos": 8,
        "tab": [
          "pytorch"
        ],
        "id": "4253cfab",
        "outputId": "a4817393-fc1c-4795-875e-4d2861054425"
      },
      "outputs": [
        {
          "data": {
            "text/plain": [
              "tensor([0., 1., 2., 3.])"
            ]
          },
          "execution_count": 2,
          "metadata": {},
          "output_type": "execute_result"
        }
      ],
      "source": [
        "x = torch.arange(4.0)\n",
        "x"
      ]
    },
    {
      "cell_type": "markdown",
      "id": "e75614b0",
      "metadata": {
        "origin_pos": 11,
        "tab": [
          "pytorch"
        ],
        "id": "e75614b0"
      },
      "source": [
        "[**Before we calculate the gradient\n",
        "of $y$ with respect to $\\mathbf{x}$,\n",
        "we need a place to store it.**]\n",
        "In general, we avoid allocating new memory\n",
        "every time we take a derivative\n",
        "because deep learning requires\n",
        "successively computing derivatives\n",
        "with respect to the same parameters\n",
        "a great many times,\n",
        "and we might risk running out of memory.\n",
        "Note that the gradient of a scalar-valued function\n",
        "with respect to a vector $\\mathbf{x}$\n",
        "is vector-valued with\n",
        "the same shape as $\\mathbf{x}$.\n"
      ]
    },
    {
      "cell_type": "code",
      "execution_count": null,
      "id": "2a001d1e",
      "metadata": {
        "attributes": {
          "classes": [],
          "id": "",
          "n": "9"
        },
        "execution": {
          "iopub.execute_input": "2023-08-18T19:26:10.088716Z",
          "iopub.status.busy": "2023-08-18T19:26:10.087816Z",
          "iopub.status.idle": "2023-08-18T19:26:10.092878Z",
          "shell.execute_reply": "2023-08-18T19:26:10.091740Z"
        },
        "origin_pos": 13,
        "tab": [
          "pytorch"
        ],
        "id": "2a001d1e"
      },
      "outputs": [],
      "source": [
        "# Can also create x = torch.arange(4.0, requires_grad=True)\n",
        "x.requires_grad_(True)\n",
        "x.grad  # The gradient is None by default"
      ]
    },
    {
      "cell_type": "markdown",
      "id": "2e74bc02",
      "metadata": {
        "origin_pos": 15,
        "id": "2e74bc02"
      },
      "source": [
        "(**We now calculate our function of `x` and assign the result to `y`.**)\n"
      ]
    },
    {
      "cell_type": "code",
      "execution_count": null,
      "id": "6e3bd777",
      "metadata": {
        "attributes": {
          "classes": [],
          "id": "",
          "n": "11"
        },
        "execution": {
          "iopub.execute_input": "2023-08-18T19:26:10.096336Z",
          "iopub.status.busy": "2023-08-18T19:26:10.095772Z",
          "iopub.status.idle": "2023-08-18T19:26:10.105236Z",
          "shell.execute_reply": "2023-08-18T19:26:10.104075Z"
        },
        "origin_pos": 17,
        "tab": [
          "pytorch"
        ],
        "id": "6e3bd777",
        "outputId": "d6372de1-8216-4343-88fa-ca454f727629"
      },
      "outputs": [
        {
          "data": {
            "text/plain": [
              "tensor(28., grad_fn=<MulBackward0>)"
            ]
          },
          "execution_count": 4,
          "metadata": {},
          "output_type": "execute_result"
        }
      ],
      "source": [
        "y = 2 * torch.dot(x, x)\n",
        "y"
      ]
    },
    {
      "cell_type": "markdown",
      "id": "c3067490",
      "metadata": {
        "origin_pos": 21,
        "tab": [
          "pytorch"
        ],
        "id": "c3067490"
      },
      "source": [
        "[**We can now take the gradient of `y`\n",
        "with respect to `x`**] by calling\n",
        "its `backward` method.\n",
        "Next, we can access the gradient\n",
        "via `x`'s `grad` attribute.\n"
      ]
    },
    {
      "cell_type": "code",
      "execution_count": null,
      "id": "21b134ae",
      "metadata": {
        "attributes": {
          "classes": [],
          "id": "",
          "n": "12"
        },
        "execution": {
          "iopub.execute_input": "2023-08-18T19:26:10.108600Z",
          "iopub.status.busy": "2023-08-18T19:26:10.108011Z",
          "iopub.status.idle": "2023-08-18T19:26:10.160854Z",
          "shell.execute_reply": "2023-08-18T19:26:10.159702Z"
        },
        "origin_pos": 25,
        "tab": [
          "pytorch"
        ],
        "id": "21b134ae",
        "outputId": "3c3b96c9-3955-4c18-f6ed-fe92feaf5957"
      },
      "outputs": [
        {
          "data": {
            "text/plain": [
              "tensor([ 0.,  4.,  8., 12.])"
            ]
          },
          "execution_count": 5,
          "metadata": {},
          "output_type": "execute_result"
        }
      ],
      "source": [
        "y.backward()\n",
        "x.grad"
      ]
    },
    {
      "cell_type": "markdown",
      "id": "17d1390b",
      "metadata": {
        "origin_pos": 28,
        "id": "17d1390b"
      },
      "source": [
        "(**We already know that the gradient of the function $y = 2\\mathbf{x}^{\\top}\\mathbf{x}$\n",
        "with respect to $\\mathbf{x}$ should be $4\\mathbf{x}$.**)\n",
        "We can now verify that the automatic gradient computation\n",
        "and the expected result are identical.\n"
      ]
    },
    {
      "cell_type": "code",
      "execution_count": null,
      "id": "5030e37d",
      "metadata": {
        "attributes": {
          "classes": [],
          "id": "",
          "n": "14"
        },
        "execution": {
          "iopub.execute_input": "2023-08-18T19:26:10.164665Z",
          "iopub.status.busy": "2023-08-18T19:26:10.163930Z",
          "iopub.status.idle": "2023-08-18T19:26:10.171033Z",
          "shell.execute_reply": "2023-08-18T19:26:10.169923Z"
        },
        "origin_pos": 30,
        "tab": [
          "pytorch"
        ],
        "id": "5030e37d",
        "outputId": "da15a8ec-929d-48c0-d80f-b3a536de4f8c"
      },
      "outputs": [
        {
          "data": {
            "text/plain": [
              "tensor([True, True, True, True])"
            ]
          },
          "execution_count": 6,
          "metadata": {},
          "output_type": "execute_result"
        }
      ],
      "source": [
        "x.grad == 4 * x"
      ]
    },
    {
      "cell_type": "markdown",
      "id": "da440e48",
      "metadata": {
        "origin_pos": 34,
        "tab": [
          "pytorch"
        ],
        "id": "da440e48"
      },
      "source": [
        "[**Now let's calculate\n",
        "another function of `x`\n",
        "and take its gradient.**]\n",
        "Note that PyTorch does not automatically\n",
        "reset the gradient buffer\n",
        "when we record a new gradient.\n",
        "Instead, the new gradient\n",
        "is added to the already-stored gradient.\n",
        "This behavior comes in handy\n",
        "when we want to optimize the sum\n",
        "of multiple objective functions.\n",
        "To reset the gradient buffer,\n",
        "we can call `x.grad.zero_()` as follows:\n"
      ]
    },
    {
      "cell_type": "code",
      "execution_count": null,
      "id": "add5cf4b",
      "metadata": {
        "attributes": {
          "classes": [],
          "id": "",
          "n": "20"
        },
        "execution": {
          "iopub.execute_input": "2023-08-18T19:26:10.174691Z",
          "iopub.status.busy": "2023-08-18T19:26:10.173957Z",
          "iopub.status.idle": "2023-08-18T19:26:10.181847Z",
          "shell.execute_reply": "2023-08-18T19:26:10.180759Z"
        },
        "origin_pos": 37,
        "tab": [
          "pytorch"
        ],
        "id": "add5cf4b",
        "outputId": "c3ec729a-b1fb-481f-e7f5-655516e2b346"
      },
      "outputs": [
        {
          "data": {
            "text/plain": [
              "tensor([1., 1., 1., 1.])"
            ]
          },
          "execution_count": 7,
          "metadata": {},
          "output_type": "execute_result"
        }
      ],
      "source": [
        "x.grad.zero_()  # Reset the gradient\n",
        "y = x.sum()\n",
        "y.backward()\n",
        "x.grad"
      ]
    },
    {
      "cell_type": "markdown",
      "id": "8bdd4c0c",
      "metadata": {
        "origin_pos": 40,
        "id": "8bdd4c0c"
      },
      "source": [
        "## Backward for Non-Scalar Variables\n",
        "\n",
        "When `y` is a vector,\n",
        "the most natural representation\n",
        "of the derivative of  `y`\n",
        "with respect to a vector `x`\n",
        "is a matrix called the *Jacobian*\n",
        "that contains the partial derivatives\n",
        "of each component of `y`\n",
        "with respect to each component of `x`.\n",
        "Likewise, for higher-order `y` and `x`,\n",
        "the result of differentiation could be an even higher-order tensor.\n",
        "\n",
        "While Jacobians do show up in some\n",
        "advanced machine learning techniques,\n",
        "more commonly we want to sum up\n",
        "the gradients of each component of `y`\n",
        "with respect to the full vector `x`,\n",
        "yielding a vector of the same shape as `x`.\n",
        "For example, we often have a vector\n",
        "representing the value of our loss function\n",
        "calculated separately for each example among\n",
        "a *batch* of training examples.\n",
        "Here, we just want to (**sum up the gradients\n",
        "computed individually for each example**).\n"
      ]
    },
    {
      "cell_type": "markdown",
      "id": "9dda7124",
      "metadata": {
        "origin_pos": 42,
        "tab": [
          "pytorch"
        ],
        "id": "9dda7124"
      },
      "source": [
        "Because deep learning frameworks vary\n",
        "in how they interpret gradients of\n",
        "non-scalar tensors,\n",
        "PyTorch takes some steps to avoid confusion.\n",
        "Invoking `backward` on a non-scalar elicits an error\n",
        "unless we tell PyTorch how to reduce the object to a scalar.\n",
        "More formally, we need to provide some vector $\\mathbf{v}$\n",
        "such that `backward` will compute\n",
        "$\\mathbf{v}^\\top \\partial_{\\mathbf{x}} \\mathbf{y}$\n",
        "rather than $\\partial_{\\mathbf{x}} \\mathbf{y}$.\n",
        "This next part may be confusing,\n",
        "but for reasons that will become clear later,\n",
        "this argument (representing $\\mathbf{v}$) is named `gradient`.\n",
        "For a more detailed description, see Yang Zhang's\n",
        "[Medium post](https://zhang-yang.medium.com/the-gradient-argument-in-pytorchs-backward-function-explained-by-examples-68f266950c29).\n"
      ]
    },
    {
      "cell_type": "code",
      "execution_count": null,
      "id": "1baa40bd",
      "metadata": {
        "execution": {
          "iopub.execute_input": "2023-08-18T19:26:10.185096Z",
          "iopub.status.busy": "2023-08-18T19:26:10.184685Z",
          "iopub.status.idle": "2023-08-18T19:26:10.192537Z",
          "shell.execute_reply": "2023-08-18T19:26:10.191435Z"
        },
        "origin_pos": 45,
        "tab": [
          "pytorch"
        ],
        "id": "1baa40bd",
        "outputId": "dc4b39c4-6948-4526-f167-7118248b07d2"
      },
      "outputs": [
        {
          "data": {
            "text/plain": [
              "tensor([0., 2., 4., 6.])"
            ]
          },
          "execution_count": 8,
          "metadata": {},
          "output_type": "execute_result"
        }
      ],
      "source": [
        "x.grad.zero_()\n",
        "y = x * x\n",
        "y.backward(gradient=torch.ones(len(y)))  # Faster: y.sum().backward()\n",
        "x.grad"
      ]
    },
    {
      "cell_type": "markdown",
      "id": "ffbd2c9d",
      "metadata": {
        "origin_pos": 48,
        "id": "ffbd2c9d"
      },
      "source": [
        "## Detaching Computation\n",
        "\n",
        "Sometimes, we wish to [**move some calculations\n",
        "outside of the recorded computational graph.**]\n",
        "For example, say that we use the input\n",
        "to create some auxiliary intermediate terms\n",
        "for which we do not want to compute a gradient.\n",
        "In this case, we need to *detach*\n",
        "the respective computational graph\n",
        "from the final result.\n",
        "The following toy example makes this clearer:\n",
        "suppose we have `z = x * y` and `y = x * x`\n",
        "but we want to focus on the *direct* influence of `x` on `z`\n",
        "rather than the influence conveyed via `y`.\n",
        "In this case, we can create a new variable `u`\n",
        "that takes the same value as `y`\n",
        "but whose *provenance* (how it was created)\n",
        "has been wiped out.\n",
        "Thus `u` has no ancestors in the graph\n",
        "and gradients do not flow through `u` to `x`.\n",
        "For example, taking the gradient of `z = x * u`\n",
        "will yield the result `u`,\n",
        "(not `3 * x * x` as you might have\n",
        "expected since `z = x * x * x`).\n"
      ]
    },
    {
      "cell_type": "code",
      "execution_count": null,
      "id": "107ac041",
      "metadata": {
        "attributes": {
          "classes": [],
          "id": "",
          "n": "21"
        },
        "execution": {
          "iopub.execute_input": "2023-08-18T19:26:10.196001Z",
          "iopub.status.busy": "2023-08-18T19:26:10.195456Z",
          "iopub.status.idle": "2023-08-18T19:26:10.203246Z",
          "shell.execute_reply": "2023-08-18T19:26:10.202155Z"
        },
        "origin_pos": 50,
        "tab": [
          "pytorch"
        ],
        "id": "107ac041",
        "outputId": "e07fe5dc-f226-4cf2-8042-4c499f7ed519"
      },
      "outputs": [
        {
          "data": {
            "text/plain": [
              "tensor([True, True, True, True])"
            ]
          },
          "execution_count": 9,
          "metadata": {},
          "output_type": "execute_result"
        }
      ],
      "source": [
        "x.grad.zero_()\n",
        "y = x * x\n",
        "u = y.detach()\n",
        "z = u * x\n",
        "\n",
        "z.sum().backward()\n",
        "x.grad == u"
      ]
    },
    {
      "cell_type": "markdown",
      "id": "e0378e1f",
      "metadata": {
        "origin_pos": 53,
        "id": "e0378e1f"
      },
      "source": [
        "Note that while this procedure\n",
        "detaches `y`'s ancestors\n",
        "from the graph leading to `z`,\n",
        "the computational graph leading to `y`\n",
        "persists and thus we can calculate\n",
        "the gradient of `y` with respect to `x`.\n"
      ]
    },
    {
      "cell_type": "code",
      "execution_count": null,
      "id": "cb8c674b",
      "metadata": {
        "execution": {
          "iopub.execute_input": "2023-08-18T19:26:10.206880Z",
          "iopub.status.busy": "2023-08-18T19:26:10.206001Z",
          "iopub.status.idle": "2023-08-18T19:26:10.213592Z",
          "shell.execute_reply": "2023-08-18T19:26:10.212476Z"
        },
        "origin_pos": 55,
        "tab": [
          "pytorch"
        ],
        "id": "cb8c674b",
        "outputId": "772ee87b-f492-48b8-e329-e0ef9f98ca18"
      },
      "outputs": [
        {
          "data": {
            "text/plain": [
              "tensor([True, True, True, True])"
            ]
          },
          "execution_count": 10,
          "metadata": {},
          "output_type": "execute_result"
        }
      ],
      "source": [
        "x.grad.zero_()\n",
        "y.sum().backward()\n",
        "x.grad == 2 * x"
      ]
    },
    {
      "cell_type": "markdown",
      "id": "76f056ce",
      "metadata": {
        "origin_pos": 58,
        "id": "76f056ce"
      },
      "source": [
        "## Gradients and Python Control Flow\n",
        "\n",
        "So far we reviewed cases where the path from input to output\n",
        "was well defined via a function such as `z = x * x * x`.\n",
        "Programming offers us a lot more freedom in how we compute results.\n",
        "For instance, we can make them depend on auxiliary variables\n",
        "or condition choices on intermediate results.\n",
        "One benefit of using automatic differentiation\n",
        "is that [**even if**] building the computational graph of\n",
        "(**a function required passing through a maze of Python control flow**)\n",
        "(e.g., conditionals, loops, and arbitrary function calls),\n",
        "(**we can still calculate the gradient of the resulting variable.**)\n",
        "To illustrate this, consider the following code snippet where\n",
        "the number of iterations of the `while` loop\n",
        "and the evaluation of the `if` statement\n",
        "both depend on the value of the input `a`.\n"
      ]
    },
    {
      "cell_type": "code",
      "execution_count": null,
      "id": "a83327c2",
      "metadata": {
        "execution": {
          "iopub.execute_input": "2023-08-18T19:26:10.218214Z",
          "iopub.status.busy": "2023-08-18T19:26:10.217554Z",
          "iopub.status.idle": "2023-08-18T19:26:10.222956Z",
          "shell.execute_reply": "2023-08-18T19:26:10.221858Z"
        },
        "origin_pos": 60,
        "tab": [
          "pytorch"
        ],
        "id": "a83327c2"
      },
      "outputs": [],
      "source": [
        "def f(a):\n",
        "    b = a * 2\n",
        "    while b.norm() < 1000:\n",
        "        b = b * 2\n",
        "    if b.sum() > 0:\n",
        "        c = b\n",
        "    else:\n",
        "        c = 100 * b\n",
        "    return c"
      ]
    },
    {
      "cell_type": "markdown",
      "id": "189f6785",
      "metadata": {
        "origin_pos": 63,
        "id": "189f6785"
      },
      "source": [
        "Below, we call this function, passing in a random value, as input.\n",
        "Since the input is a random variable,\n",
        "we do not know what form\n",
        "the computational graph will take.\n",
        "However, whenever we execute `f(a)`\n",
        "on a specific input, we realize\n",
        "a specific computational graph\n",
        "and can subsequently run `backward`.\n"
      ]
    },
    {
      "cell_type": "code",
      "execution_count": null,
      "id": "c5ef0264",
      "metadata": {
        "execution": {
          "iopub.execute_input": "2023-08-18T19:26:10.227364Z",
          "iopub.status.busy": "2023-08-18T19:26:10.226919Z",
          "iopub.status.idle": "2023-08-18T19:26:10.232880Z",
          "shell.execute_reply": "2023-08-18T19:26:10.231773Z"
        },
        "origin_pos": 65,
        "tab": [
          "pytorch"
        ],
        "id": "c5ef0264"
      },
      "outputs": [],
      "source": [
        "a = torch.randn(size=(), requires_grad=True)\n",
        "d = f(a)\n",
        "d.backward()"
      ]
    },
    {
      "cell_type": "markdown",
      "id": "51065133",
      "metadata": {
        "origin_pos": 68,
        "id": "51065133"
      },
      "source": [
        "Even though our function `f` is, for demonstration purposes, a bit contrived,\n",
        "its dependence on the input is quite simple:\n",
        "it is a *linear* function of `a`\n",
        "with piecewise defined scale.\n",
        "As such, `f(a) / a` is a vector of constant entries\n",
        "and, moreover, `f(a) / a` needs to match\n",
        "the gradient of `f(a)` with respect to `a`.\n"
      ]
    },
    {
      "cell_type": "code",
      "execution_count": null,
      "id": "ab14ef91",
      "metadata": {
        "execution": {
          "iopub.execute_input": "2023-08-18T19:26:10.237298Z",
          "iopub.status.busy": "2023-08-18T19:26:10.236886Z",
          "iopub.status.idle": "2023-08-18T19:26:10.243577Z",
          "shell.execute_reply": "2023-08-18T19:26:10.242480Z"
        },
        "origin_pos": 70,
        "tab": [
          "pytorch"
        ],
        "id": "ab14ef91",
        "outputId": "4d85cfd2-c7b3-460e-bf7e-76fdf88e0f50"
      },
      "outputs": [
        {
          "data": {
            "text/plain": [
              "tensor(True)"
            ]
          },
          "execution_count": 13,
          "metadata": {},
          "output_type": "execute_result"
        }
      ],
      "source": [
        "a.grad == d / a"
      ]
    },
    {
      "cell_type": "markdown",
      "id": "a992f28c",
      "metadata": {
        "origin_pos": 73,
        "id": "a992f28c"
      },
      "source": [
        "Dynamic control flow is very common in deep learning.\n",
        "For instance, when processing text, the computational graph\n",
        "depends on the length of the input.\n",
        "In these cases, automatic differentiation\n",
        "becomes vital for statistical modeling\n",
        "since it is impossible to compute the gradient *a priori*.\n",
        "\n",
        "## Discussion\n",
        "\n",
        "You have now gotten a taste of the power of automatic differentiation.\n",
        "The development of libraries for calculating derivatives\n",
        "both automatically and efficiently\n",
        "has been a massive productivity booster\n",
        "for deep learning practitioners,\n",
        "liberating them so they can focus on less menial.\n",
        "Moreover, autograd lets us design massive models\n",
        "for which pen and paper gradient computations\n",
        "would be prohibitively time consuming.\n",
        "Interestingly, while we use autograd to *optimize* models\n",
        "(in a statistical sense)\n",
        "the *optimization* of autograd libraries themselves\n",
        "(in a computational sense)\n",
        "is a rich subject\n",
        "of vital interest to framework designers.\n",
        "Here, tools from compilers and graph manipulation\n",
        "are leveraged to compute results\n",
        "in the most expedient and memory-efficient manner.\n",
        "\n",
        "For now, try to remember these basics: (i) attach gradients to those variables with respect to which we desire derivatives; (ii) record the computation of the target value; (iii) execute the backpropagation function; and  (iv) access the resulting gradient.\n",
        "\n",
        "\n",
        "## Exercises\n",
        "\n",
        "1. Why is the second derivative much more expensive to compute than the first derivative?\n",
        "1. After running the function for backpropagation, immediately run it again and see what happens. Investigate.\n",
        "1. In the control flow example where we calculate the derivative of `d` with respect to `a`, what would happen if we changed the variable `a` to a random vector or a matrix? At this point, the result of the calculation `f(a)` is no longer a scalar. What happens to the result? How do we analyze this?\n",
        "1. Let $f(x) = \\sin(x)$. Plot the graph of $f$ and of its derivative $f'$. Do not exploit the fact that $f'(x) = \\cos(x)$ but rather use automatic differentiation to get the result.\n",
        "1. Let $f(x) = ((\\log x^2) \\cdot \\sin x) + x^{-1}$. Write out a dependency graph tracing results from $x$ to $f(x)$.\n",
        "1. Use the chain rule to compute the derivative $\\frac{df}{dx}$ of the aforementioned function, placing each term on the dependency graph that you constructed previously.\n",
        "1. Given the graph and the intermediate derivative results, you have a number of options when computing the gradient. Evaluate the result once starting from $x$ to $f$ and once from $f$ tracing back to $x$. The path from $x$ to $f$ is commonly known as *forward differentiation*, whereas the path from $f$ to $x$ is known as backward differentiation.\n",
        "1. When might you want to use forward, and when backward, differentiation? Hint: consider the amount of intermediate data needed, the ability to parallelize steps, and the size of matrices and vectors involved.\n"
      ]
    },
    {
      "cell_type": "markdown",
      "id": "4c0ab97d",
      "metadata": {
        "origin_pos": 75,
        "tab": [
          "pytorch"
        ],
        "id": "4c0ab97d"
      },
      "source": [
        "[Discussions](https://discuss.d2l.ai/t/35)\n"
      ]
    }
  ],
  "metadata": {
    "kernelspec": {
      "display_name": "Python 3",
      "name": "python3"
    },
    "language_info": {
      "name": "python"
    },
    "required_libs": [],
    "colab": {
      "provenance": [],
      "toc_visible": true,
      "include_colab_link": true
    }
  },
  "nbformat": 4,
  "nbformat_minor": 5
}