{
  "cells": [
    {
      "cell_type": "markdown",
      "metadata": {
        "id": "view-in-github",
        "colab_type": "text"
      },
      "source": [
        "<a href=\"https://colab.research.google.com/github/newfrogg/Automatic-Differentiation/blob/GiaHinh/autodiff.ipynb\" target=\"_parent\"><img src=\"https://colab.research.google.com/assets/colab-badge.svg\" alt=\"Open In Colab\"/></a>"
      ]
    },
    {
      "cell_type": "markdown",
      "source": [
        "| Mục lớn                             | Mục nhỏ                                                         |           |\n",
        "|-------------------------------------|-----------------------------------------------------------------|-----------|\n",
        "| Introduction                        |                                                                 |  1 người  |\n",
        "|                                     | Differential Calculus                                           |  Tử Quân  |\n",
        "|                                     | Rules of Calculus                                               |  Tử Quân  |\n",
        "|                                     | Multivariate Chain Rule                                         |  Tử Quân  |\n",
        "|                                     | Geometry of Gradients and Gradient Descent                      |  Tử Quân  |\n",
        "| What Autodiff Isn’t                 |                                                                 |  3 người  |\n",
        "|                                     | Autodiff is not finite differences (numerical differentiation)  |  An Đông  |\n",
        "|                                     | Autodiff is not symbolic differentiation                        |  An Đông  |\n",
        "|                                     | What autodiff is ?                                              |  An Đông  |\n",
        "|                                     | Types of Autodiff (explain forward, backward)                   |  An Đông  |\n",
        "|                                     | Backpropagation Algorithm                                       |  Gia Hinh |\n",
        "|                                     | give an example and describe the autodiff step-by-step workflow |  Gia Hinh |\n",
        "|                                     | The Power of Automatic Differentiation, Applications                                     |  Gia Hinh |\n",
        "|                                     | Summary. Compare betwwen each type advancement of each types    |  Gia Hinh |\n",
        "| Visualization. Code, Implementation |                                                                 |  1 người  |\n",
        "|                                     | Code                                                            | Bảo Lương |\n",
        "| Exercise                            |                                                                 |  2 người  |\n",
        "|                                     | Q1-4                                                            |   Triết   |\n",
        "|                                     | Q5-8                                                            | Minh Quân |"
      ],
      "metadata": {
        "id": "6-FUvYwvWEJF"
      },
      "id": "6-FUvYwvWEJF"
    },
    {
      "cell_type": "markdown",
      "source": [
        "# Introduction\n",
        "\n",
        "## Differential Calculus\n",
        "## Rules of Calculus\n",
        "## Geometry of Gradients and Gradient Descent\n",
        "\n",
        "## Multivariate Chain Rule\n",
        "## The Backpropagation Algorithm\n",
        "\n",
        "https://d2l.ai/chapter_appendix-mathematics-for-deep-learning/single-variable-calculus.html\n",
        "https://d2l.ai/chapter_appendix-mathematics-for-deep-learning/multivariable-calculus.html"
      ],
      "metadata": {
        "id": "LRVgmL2uBTRS"
      },
      "id": "LRVgmL2uBTRS"
    },
    {
      "cell_type": "markdown",
      "source": [
        "# What Autodiff Isn’t\n",
        "\n",
        "## Autodiff is not finite differences (numerical differentiation)\n",
        "\n",
        "## Autodiff is not symbolic differentiation\n",
        "\n",
        "## What autodiff is ? Types of Autodiff (explain forward, backward)\n",
        "f(x1,x2) = [sin(x1/x2) + x1/x2 - e^x2] * [x1/x2 + e^x2]\n",
        "\n",
        "## Types of Autodiff (explain forward, backward)\n",
        "\n",
        "\n",
        "\n",
        "\n",
        "\n"
      ],
      "metadata": {
        "id": "aQgVWYQ1I9AG"
      },
      "id": "aQgVWYQ1I9AG"
    },
    {
      "cell_type": "markdown",
      "source": [
        "## Backpropagation Algorithm\n",
        "Backpropagation Algorithm is the central in traning neural networks.\n",
        "* It is an algorithm for computing gradients\n",
        "* It is a special case of **reverse-mode automatic differentiation** (AD) applied to a computational graph with <font color='red'>a scalar-output</font>.\n",
        "* Note: Backpropagation refers to the <font color='red'> whole process of training an artificial neural network </font> using multiple backpropagation steps, each of which computes gradients and uses them to perform a Gradient Descent step. **In contrast, reverse-mode auto diff is simply a technique used to compute gradients efficiently and it happens to be used by backpropagation.**\n",
        "\n",
        "Let take an example. We have a function, where:\n",
        "\n",
        "\\begin{split}\\begin{aligned}\n",
        "f(u, v) & = (u+v)^{2} \\\\\n",
        "u(a, b) & = (a+b)^{2}, \\qquad v(a, b) = (a-b)^{2}, \\\\\n",
        "a(w, x, y, z) & = (w+x+y+z)^{2}, \\qquad b(w, x, y, z) = (w+x-y-z)^2.\n",
        "\\end{aligned}\\end{split}\n",
        "\n",
        "For illustration, this diagram describes the nodes represent variables and edges show functional dependence.\n",
        "<p align=\"center\">\n",
        "  <img src=\"https://d2l.ai/_images/chain-net1.svg\" width=\"400\" height=\"300\"/>\n",
        "</p>\n",
        "\n",
        "\n",
        "\n",
        "If we want to calculate $\\frac{\\partial f}{\\partial w}$, applying the multi-variate chain rule to get that:\n",
        "\\begin{split}\\begin{aligned}\n",
        "\\frac{\\partial f}{\\partial w} & = \\frac{\\partial f}{\\partial u}\\frac{\\partial u}{\\partial w} + \\frac{\\partial f}{\\partial v}\\frac{\\partial v}{\\partial w}, \\\\\n",
        "\\frac{\\partial u}{\\partial w} & = \\frac{\\partial u}{\\partial a}\\frac{\\partial a}{\\partial w}+\\frac{\\partial u}{\\partial b}\\frac{\\partial b}{\\partial w}, \\\\\n",
        "\\frac{\\partial v}{\\partial w} & = \\frac{\\partial v}{\\partial a}\\frac{\\partial a}{\\partial w}+\\frac{\\partial v}{\\partial b}\\frac{\\partial b}{\\partial w}.\n",
        "\\end{aligned}\\end{split}\n",
        "\n",
        "Next, try using this decomposition to compute $\\frac{\\partial f}{\\partial w}$. Notice that all we need here are the various single step partials:\n",
        "\\begin{split}\\begin{aligned}\n",
        "\\frac{\\partial f}{\\partial u} = 2(u+v), & \\quad\\frac{\\partial f}{\\partial v} = 2(u+v), \\\\\n",
        "\\frac{\\partial u}{\\partial a} = 2(a+b), & \\quad\\frac{\\partial u}{\\partial b} = 2(a+b), \\\\\n",
        "\\frac{\\partial v}{\\partial a} = 2(a-b), & \\quad\\frac{\\partial v}{\\partial b} = -2(a-b), \\\\\n",
        "\\frac{\\partial a}{\\partial w} = 2(w+x+y+z), & \\quad\\frac{\\partial b}{\\partial w} = 2(w+x-y-z).\n",
        "\\end{aligned}\\end{split}\n",
        "\n",
        "If we write this out into code this becomes a fairly manageable expression.\n",
        "\n",
        "\n"
      ],
      "metadata": {
        "id": "g87wIJiyWcSe"
      },
      "id": "g87wIJiyWcSe"
    },
    {
      "cell_type": "code",
      "source": [
        "# !pip install torch==2.0.0 torchvision==0.15.1\n",
        "# !pip install d2l==1.0.3\n",
        "## Import necessary libraries\n",
        "%matplotlib inline\n",
        "import numpy as np\n",
        "import torch\n",
        "from IPython import display\n",
        "from mpl_toolkits import mplot3d\n",
        "# from d2l import torch as d2l\n",
        "# Compute the value of the function from inputs to outputs\n",
        "w, x, y, z = -1, 0, -2, 1\n",
        "a, b = (w + x + y + z)**2, (w + x - y - z)**2\n",
        "u, v = (a + b)**2, (a - b)**2\n",
        "f = (u + v)**2\n",
        "print(f'    f at {w}, {x}, {y}, {z} is {f}')\n",
        "\n",
        "# Compute the single step partials\n",
        "df_du, df_dv = 2*(u + v), 2*(u + v)\n",
        "du_da, du_db, dv_da, dv_db = 2*(a + b), 2*(a + b), 2*(a - b), -2*(a - b)\n",
        "da_dw, db_dw = 2*(w + x + y + z), 2*(w + x - y - z)\n",
        "\n",
        "# Compute the final result from inputs to outputs\n",
        "du_dw, dv_dw = du_da*da_dw + du_db*db_dw, dv_da*da_dw + dv_db*db_dw\n",
        "df_dw = df_du*du_dw + df_dv*dv_dw\n",
        "print(f'df/dw at {w}, {x}, {y}, {z} is {df_dw}')"
      ],
      "metadata": {
        "colab": {
          "base_uri": "https://localhost:8080/"
        },
        "id": "thYCunxjeySi",
        "outputId": "8cf670cd-25e9-4258-b7ba-164f77953e31"
      },
      "id": "thYCunxjeySi",
      "execution_count": 2,
      "outputs": [
        {
          "output_type": "stream",
          "name": "stdout",
          "text": [
            "    f at -1, 0, -2, 1 is 1024\n",
            "df/dw at -1, 0, -2, 1 is -4096\n"
          ]
        }
      ]
    },
    {
      "cell_type": "markdown",
      "source": [
        "However, note that this still does not make it easy to compute something like\n",
        "$\\frac{\\partial f}{\\partial x}$\n",
        "\n",
        "The reason for that is the way we chose to apply the chain rule. If we look at what we did above, we always kept $\\partial w$ in the denominator when we would. In this way, we chose to apply the chain rule seeing how changed every other variable. If that is what we wanted, this would be a good idea.\n",
        "\n",
        "However, think back to our motivation from deep learning: we want to see how very parameter changes the loss. In essence, we want to apply the chain rule keeping $\\partial f$ in the numerator whenever we can!\n",
        "\n",
        "To be more explicit, note that we can write\n",
        "\n",
        "\\begin{split}\\begin{aligned}\n",
        "\\frac{\\partial f}{\\partial w} & = \\frac{\\partial f}{\\partial a}\\frac{\\partial a}{\\partial w} + \\frac{\\partial f}{\\partial b}\\frac{\\partial b}{\\partial w}, \\\\\n",
        "\\frac{\\partial f}{\\partial a} & = \\frac{\\partial f}{\\partial u}\\frac{\\partial u}{\\partial a}+\\frac{\\partial f}{\\partial v}\\frac{\\partial v}{\\partial a}, \\\\\n",
        "\\frac{\\partial f}{\\partial b} & = \\frac{\\partial f}{\\partial u}\\frac{\\partial u}{\\partial b}+\\frac{\\partial f}{\\partial v}\\frac{\\partial v}{\\partial b}.\n",
        "\\end{aligned}\\end{split}\n",
        "\n",
        "Note that this application of the chain rule has us explicitly compute $\\frac{\\partial f}{\\partial u}, \\frac{\\partial f}{\\partial v}, \\frac{\\partial f}{\\partial a}, \\frac{\\partial f}{\\partial b}, \\; \\textrm{and} \\; \\frac{\\partial f}{\\partial w}$\n",
        "\n",
        "\\begin{split}\\begin{aligned}\n",
        "\\frac{\\partial f}{\\partial x} & = \\frac{\\partial f}{\\partial a}\\frac{\\partial a}{\\partial x} + \\frac{\\partial f}{\\partial b}\\frac{\\partial b}{\\partial x}, \\\\\n",
        "\\frac{\\partial f}{\\partial y} & = \\frac{\\partial f}{\\partial a}\\frac{\\partial a}{\\partial y}+\\frac{\\partial f}{\\partial b}\\frac{\\partial b}{\\partial y}, \\\\\n",
        "\\frac{\\partial f}{\\partial z} & = \\frac{\\partial f}{\\partial a}\\frac{\\partial a}{\\partial z}+\\frac{\\partial f}{\\partial b}\\frac{\\partial b}{\\partial z}.\n",
        "\\end{aligned}\\end{split}\n",
        "\n",
        "and then keeping track of how $f$ changes when we change any node in the entire network. Let’s implement it.\n",
        "\n"
      ],
      "metadata": {
        "id": "C6xf-q5re4Cb"
      },
      "id": "C6xf-q5re4Cb"
    },
    {
      "cell_type": "code",
      "source": [
        "# Compute the value of the function from inputs to outputs\n",
        "w, x, y, z = -1, 0, -2, 1\n",
        "a, b = (w + x + y + z)**2, (w + x - y - z)**2\n",
        "u, v = (a + b)**2, (a - b)**2\n",
        "f = (u + v)**2\n",
        "print(f'f at {w}, {x}, {y}, {z} is {f}')\n",
        "\n",
        "# Compute the derivative using the decomposition above\n",
        "# First compute the single step partials\n",
        "df_du, df_dv = 2*(u + v), 2*(u + v)\n",
        "du_da, du_db, dv_da, dv_db = 2*(a + b), 2*(a + b), 2*(a - b), -2*(a - b)\n",
        "da_dw, db_dw = 2*(w + x + y + z), 2*(w + x - y - z)\n",
        "da_dx, db_dx = 2*(w + x + y + z), 2*(w + x - y - z)\n",
        "da_dy, db_dy = 2*(w + x + y + z), -2*(w + x - y - z)\n",
        "da_dz, db_dz = 2*(w + x + y + z), -2*(w + x - y - z)\n",
        "\n",
        "# Now compute how f changes when we change any value from output to input\n",
        "df_da, df_db = df_du*du_da + df_dv*dv_da, df_du*du_db + df_dv*dv_db\n",
        "df_dw, df_dx = df_da*da_dw + df_db*db_dw, df_da*da_dx + df_db*db_dx\n",
        "df_dy, df_dz = df_da*da_dy + df_db*db_dy, df_da*da_dz + df_db*db_dz\n",
        "\n",
        "print(f'df/dw at {w}, {x}, {y}, {z} is {df_dw}')\n",
        "print(f'df/dx at {w}, {x}, {y}, {z} is {df_dx}')\n",
        "print(f'df/dy at {w}, {x}, {y}, {z} is {df_dy}')\n",
        "print(f'df/dz at {w}, {x}, {y}, {z} is {df_dz}')"
      ],
      "metadata": {
        "colab": {
          "base_uri": "https://localhost:8080/"
        },
        "id": "JVFYzZw_gC89",
        "outputId": "bed8f1ff-9bf6-4164-faa7-b846f97fdf19"
      },
      "id": "JVFYzZw_gC89",
      "execution_count": 3,
      "outputs": [
        {
          "output_type": "stream",
          "name": "stdout",
          "text": [
            "f at -1, 0, -2, 1 is 1024\n",
            "df/dw at -1, 0, -2, 1 is -4096\n",
            "df/dx at -1, 0, -2, 1 is -4096\n",
            "df/dy at -1, 0, -2, 1 is -4096\n",
            "df/dz at -1, 0, -2, 1 is -4096\n"
          ]
        }
      ]
    },
    {
      "cell_type": "markdown",
      "source": [
        "The fact that we compute derivatives from back towards the inputs rather than from the inputs forward to the outputs (as we did in the first code snippet above) is what gives this algorithm its name: backpropagation. Note that there are two steps:\n",
        "1. Compute the value of the function, and the single step partials from front to back. While not done above, this can be combined into a single **forward pass**.\n",
        "2. Compute the gradient of $f$ from back to front. We call this the **backwards pass**.\n",
        "\n",
        "<font color='red'>This is precisely what every deep learning algorithm implements to allow the computation of the gradient of the loss with respect to every weight in the network at one pass</font>\n",
        "\n",
        "\n",
        "\n",
        "To see how to encapsulated this, let’s take a quick look at this example."
      ],
      "metadata": {
        "id": "3SlglgdNgkrM"
      },
      "id": "3SlglgdNgkrM"
    },
    {
      "cell_type": "code",
      "source": [
        "# Initialize as ndarrays, then attach gradients\n",
        "w = torch.tensor([-1.], requires_grad=True)\n",
        "x = torch.tensor([0.], requires_grad=True)\n",
        "y = torch.tensor([-2.], requires_grad=True)\n",
        "z = torch.tensor([1.], requires_grad=True)\n",
        "# Do the computation like usual, tracking gradients\n",
        "a, b = (w + x + y + z)**2, (w + x - y - z)**2\n",
        "u, v = (a + b)**2, (a - b)**2\n",
        "f = (u + v)**2\n",
        "\n",
        "# Execute backward pass\n",
        "f.backward()\n",
        "\n",
        "print(f'df/dw at {w.data.item()}, {x.data.item()}, {y.data.item()}, '\n",
        "      f'{z.data.item()} is {w.grad.data.item()}')\n",
        "print(f'df/dx at {w.data.item()}, {x.data.item()}, {y.data.item()}, '\n",
        "      f'{z.data.item()} is {x.grad.data.item()}')\n",
        "print(f'df/dy at {w.data.item()}, {x.data.item()}, {y.data.item()}, '\n",
        "      f'{z.data.item()} is {y.grad.data.item()}')\n",
        "print(f'df/dz at {w.data.item()}, {x.data.item()}, {y.data.item()}, '\n",
        "      f'{z.data.item()} is {z.grad.data.item()}')"
      ],
      "metadata": {
        "colab": {
          "base_uri": "https://localhost:8080/"
        },
        "id": "C98smF7Og5Pd",
        "outputId": "13e1e3e5-bc8c-4922-ae59-45ed7aa4d47c"
      },
      "id": "C98smF7Og5Pd",
      "execution_count": 5,
      "outputs": [
        {
          "output_type": "stream",
          "name": "stdout",
          "text": [
            "df/dw at -1.0, 0.0, -2.0, 1.0 is -4096.0\n",
            "df/dx at -1.0, 0.0, -2.0, 1.0 is -4096.0\n",
            "df/dy at -1.0, 0.0, -2.0, 1.0 is -4096.0\n",
            "df/dz at -1.0, 0.0, -2.0, 1.0 is -4096.0\n"
          ]
        }
      ]
    },
    {
      "cell_type": "markdown",
      "source": [
        "All of what we did above can be done automatically by calling **f.backwards()**."
      ],
      "metadata": {
        "id": "EKWY_uu7g86b"
      },
      "id": "EKWY_uu7g86b"
    },
    {
      "cell_type": "markdown",
      "source": [
        "### Backpropagation of Loss\n",
        "* The function we want to minimize or maximize is called the objective function or criterion. When we are minimizing it, we may also call it the cost function, loss function or error\n",
        "function.\n",
        "* Loss is the starting point of the backpropagation\n",
        "* Backpropagation is the method to minimize the loss function by adjusting network’s weights and biases. The level of adjustment is determined by the gradients of the loss function\n",
        "\n",
        "\n",
        "\n",
        "\n"
      ],
      "metadata": {
        "id": "7s0bA9xPaOnv"
      },
      "id": "7s0bA9xPaOnv"
    },
    {
      "cell_type": "code",
      "source": [
        "import matplotlib.pyplot as plt\n",
        "import numpy as np\n",
        "\n",
        "# Define the network structure\n",
        "input_neurons = 2\n",
        "hidden_neurons = 2\n",
        "output_neurons = 1\n",
        "\n",
        "# Weights and biases from the example\n",
        "weights_input_hidden = np.array([[0.15, 0.2], [0.25, 0.3]])  # w11, w12, w21, w22\n",
        "weights_hidden_output = np.array([0.4, 0.45])  # w_h1, w_h2\n",
        "bias_hidden = 0.35  # b_h\n",
        "bias_output = 0.6   # b_y\n",
        "\n",
        "# Set up the figure\n",
        "fig, ax = plt.subplots(figsize=(8, 6))\n",
        "\n",
        "# Positions for neurons in straight rows\n",
        "input_pos = np.array([[0, 0.75], [0, 0.25]])  # x1, x2\n",
        "hidden_pos = np.array([[0.5, 0.75], [0.5, 0.25]])  # h1, h2\n",
        "output_pos = np.array([[1, 0.5]])  # y\n",
        "\n",
        "# Draw neurons\n",
        "for pos in input_pos:\n",
        "    ax.add_patch(plt.Circle(pos, 0.05, color='blue', fill=True))\n",
        "for pos in hidden_pos:\n",
        "    ax.add_patch(plt.Circle(pos, 0.05, color='green', fill=True))\n",
        "for pos in output_pos:\n",
        "    ax.add_patch(plt.Circle(pos, 0.05, color='red', fill=True))\n",
        "\n",
        "# Draw connections and label weights with offset to avoid overlap\n",
        "for i in range(input_neurons):\n",
        "    for j in range(hidden_neurons):\n",
        "        ax.plot([input_pos[i][0], hidden_pos[j][0]], [input_pos[i][1], hidden_pos[j][1]], 'k-')\n",
        "        if i != j:\n",
        "            mid_x = (input_pos[i][0] + hidden_pos[j][0]) / 4\n",
        "            mid_y = (input_pos[i][1] + hidden_pos[j][1]) / (3 / (j + 1))\n",
        "            ax.text(mid_x , mid_y , f'w_{i+1}{j+1}={weights_input_hidden[i][j]}', fontsize=12, ha='center')\n",
        "            continue\n",
        "        # Calculate midpoint for label placement\n",
        "        mid_x = (input_pos[i][0] + hidden_pos[j][0]) / 2\n",
        "        mid_y = (input_pos[i][1] + hidden_pos[j][1]) / 2 + 0.02\n",
        "        ax.text(mid_x , mid_y , f'w_{i+1}{j+1}={weights_input_hidden[i][j]}', fontsize=12, ha='center')\n",
        "\n",
        "for i in range(hidden_neurons):\n",
        "    ax.plot([hidden_pos[i][0], output_pos[0][0]], [hidden_pos[i][1], output_pos[0][1]], 'k-')\n",
        "    # Label weights\n",
        "    mid_x = (hidden_pos[i][0] + output_pos[0][0]) / 2\n",
        "    mid_y = (hidden_pos[i][1] + output_pos[0][1]) / 2\n",
        "    ax.text(mid_x, mid_y, f'w_h{i+1}={weights_hidden_output[i]}', fontsize=12, ha='center')\n",
        "\n",
        "# Draw biases\n",
        "ax.text(hidden_pos[0][0] + 0.15, hidden_pos[0][1] + 0.1, f'b_h={bias_hidden}', fontsize=12, color='green')\n",
        "ax.text(output_pos[0][0] + 0.15, output_pos[0][1] + 0.1, f'b_y={bias_output}', fontsize=12, color='red')\n",
        "\n",
        "# Label neurons\n",
        "ax.text(input_pos[0][0] - 0.1, input_pos[0][1], 'x₁', fontsize=10)\n",
        "ax.text(input_pos[1][0] - 0.1, input_pos[1][1], 'x₂', fontsize=10)\n",
        "ax.text(hidden_pos[0][0], hidden_pos[0][1] + 0.1, 'h₁', fontsize=10)\n",
        "ax.text(hidden_pos[1][0], hidden_pos[1][1] + 0.1, 'h₂', fontsize=10)\n",
        "ax.text(output_pos[0][0] + 0.1, output_pos[0][1], 'y', fontsize=10)\n",
        "\n",
        "# Label layers\n",
        "ax.text(0, 1, 'Input Layer', fontsize=12, ha='center')\n",
        "ax.text(0.5, 1, 'Hidden Layer\\n(Sigmoid)', fontsize=12, ha='center')\n",
        "ax.text(1, 1, 'Output Layer\\n(Sigmoid)', fontsize=12, ha='center')\n",
        "\n",
        "# Set limits and remove axes\n",
        "ax.set_xlim(-0.2, 1.3)\n",
        "ax.set_ylim(0, 1)\n",
        "ax.axis('off')\n",
        "\n",
        "# Display the plot in Colab\n",
        "plt.show()"
      ],
      "metadata": {
        "id": "K95IDuScdwr-",
        "outputId": "d7da8c8b-65de-481d-fb4b-f60a32666332",
        "colab": {
          "base_uri": "https://localhost:8080/",
          "height": 533
        }
      },
      "id": "K95IDuScdwr-",
      "execution_count": 50,
      "outputs": [
        {
          "output_type": "display_data",
          "data": {
            "text/plain": [
              "<Figure size 800x600 with 1 Axes>"
            ],
            "image/png": "[encoded data removed]"
          },
          "metadata": {}
        }
      ]
    },
    {
      "cell_type": "markdown",
      "source": [
        "For example, we simple feedforward neural network with one hidden layer. The network has:\n",
        "\n",
        "* Input layer: 2 neurons ($x_1$, $x_2$)\n",
        "* Hidden layer: 2 neurons ($h_1$, $h_2$) with sigmoid activation\n",
        "* Output layer: 1 neuron ($y$) with sigmoid activation\n",
        "* Loss function: Mean Squared Error (MSE)\n",
        "\n",
        "We’ll compute gradients and update weights for one training example with\n",
        "Input: $x = [x_1, x_2] = [0.5, 0.1]$. Target output: $t = 0.8$\n",
        "\n",
        "Weights and biases (randomly initialized):\n",
        "\n",
        "* Input to hidden: $w_{11} = 0.15$, $w_{12} = 0.2$, $w_{21} = 0.25$, $w_{22} = 0.3$\n",
        "\n",
        "* Hidden to output: $w_{h1} = 0.4$, $w_{h2} = 0.45$\n",
        "\n",
        "* Biases: $b_h = 0.35$ (hidden), $b_y = 0.6$ (output)\n",
        "\n",
        "* Learning rate: $\\eta = 0.5$\n",
        "\n",
        "* Activation function: Sigmoid, $\\sigma(z) = \\frac{1}{1 + e^{-z}}$,\n",
        "\n",
        "* Derivative: $\\sigma'(z) = \\sigma(z)(1 - \\sigma(z))$\n",
        "\n",
        "The network structure is:\n",
        "\n",
        "* Input: $x_1$, $x_2$\n",
        "\n",
        "* Hidden: $h_1 = \\sigma(w_{11}x_1 + w_{21}x_2 + b_h)$, $h_2 = \\sigma(w_{12}x_1 + w_{22}x_2 + b_h)$\n",
        "\n",
        "* Output: $y = \\sigma(w_{h1}h_1 + w_{h2}h_2 + b_y)$\n",
        "\n",
        "* Loss: $E = \\frac{1}{2}(t - y)^2$\n"
      ],
      "metadata": {
        "id": "rcrpL-YWcJvl"
      },
      "id": "rcrpL-YWcJvl"
    },
    {
      "cell_type": "markdown",
      "source": [
        "<font color='red'>Step 1: Forward Pass. Compute the activations of all neurons. </font>\n",
        "\n",
        "Hidden Layer:\n",
        "\n",
        "Net input to $h_1$:$$z_{h1} = w_{11}x_1 + w_{21}x_2 + b_h = (0.15)(0.5) + (0.25)(0.1) + 0.35 = 0.075 + 0.025 + 0.35 = 0.45$$$$h_1 = \\sigma(z_{h1}) = \\frac{1}{1 + e^{-0.45}} \\approx 0.6106$$\n",
        "\n",
        "Net input to $h_2$:$$z_{h2} = w_{12}x_1 + w_{22}x_2 + b_h = (0.2)(0.5) + (0.3)(0.1) + 0.35 = 0.1 + 0.03 + 0.35 = 0.48$$$$h_2 = \\sigma(z_{h2}) = \\frac{1}{1 + e^{-0.48}} \\approx 0.6177$$\n",
        "\n",
        "\n",
        "Output Layer:\n",
        "\n",
        "Net input to $y$:$$z_y = w_{h1}h_1 + w_{h2}h_2 + b_y = (0.4)(0.6106) + (0.45)(0.6177) + 0.6 \\approx 0.2442 + 0.2780 + 0.6 = 1.1222$$$$y = \\sigma(z_y) = \\frac{1}{1 + e^{-1.1222}} \\approx 0.7546$$\n",
        "\n",
        "Loss:$$E = \\frac{1}{2}(t - y)^2 = \\frac{1}{2}(0.8 - 0.7546)^2 = \\frac{1}{2}(0.0454)^2 \\approx 0.00103$$"
      ],
      "metadata": {
        "id": "LWGJ7rUFeslX"
      },
      "id": "LWGJ7rUFeslX"
    },
    {
      "cell_type": "markdown",
      "source": [
        "<font color='red'> Step 2: Backward Pass (Compute Gradients) </font>\n",
        "\n",
        "We compute the partial derivatives of the loss $E$ with respect to each weight and bias, starting from the output layer and moving backward.\n",
        "Output Layer Gradients:\n",
        "\n",
        "Error term for output neuron:$$\\delta_y = \\frac{\\partial E}{\\partial y} \\cdot \\sigma'(z_y)$$\n",
        "\n",
        "Loss derivative: $\\frac{\\partial E}{\\partial y} = -(t - y) = -(0.8 - 0.7546) = -0.0454$\n",
        "Sigmoid derivative: $\\sigma'(z_y) = y(1 - y) = 0.7546(1 - 0.7546) \\approx 0.1851$\n",
        "$\\delta_y = -0.0454 \\cdot 0.1851 \\approx -0.0084$\n",
        "\n",
        "\n",
        "Gradients for weights to output:$$\\frac{\\partial E}{\\partial w_{h1}} = \\delta_y \\cdot h_1 = -0.0084 \\cdot 0.6106 \\approx -0.00513$$$$\\frac{\\partial E}{\\partial w_{h2}} = \\delta_y \\cdot h_2 = -0.0084 \\cdot 0.6177 \\approx -0.00519$$\n",
        "\n",
        "Gradient for output bias:$$\\frac{\\partial E}{\\partial b_y} = \\delta_y = -0.0084$$\n",
        "\n",
        "\n",
        "Hidden Layer Gradients:\n",
        "\n",
        "Error terms for hidden neurons:$$\\delta_{h1} = \\left( w_{h1} \\cdot \\delta_y \\right) \\cdot \\sigma'(z_{h1})$$\n",
        "\n",
        "$w_{h1} \\cdot \\delta_y = 0.4 \\cdot (-0.0084) \\approx -0.00336$\n",
        "Sigmoid derivative: $\\sigma'(z_{h1}) = h_1(1 - h_1) = 0.6106(1 - 0.6106) \\approx 0.2379$\n",
        "$\\delta_{h1} = -0.00336 \\cdot 0.2379 \\approx -0.0008$\n",
        "\n",
        "$$\\delta_{h2} = \\left( w_{h2} \\cdot \\delta_y \\right) \\cdot \\sigma'(z_{h2})$$\n",
        "\n",
        "$w_{h2} \\cdot \\delta_y = 0.45 \\cdot (-0.0084) \\approx -0.00378$\n",
        "Sigmoid derivative: $\\sigma'(z_{h2}) = h_2(1 - h_2) = 0.6177(1 - 0.6177) \\approx 0.2362$\n",
        "$\\delta_{h2} = -0.00378 \\cdot 0.2362 \\approx -0.00089$\n",
        "\n",
        "\n",
        "Gradients for weights to hidden layer:$$\\frac{\\partial E}{\\partial w_{11}} = \\delta_{h1} \\cdot x_1 = -0.0008 \\cdot 0.5 \\approx -0.0004$$$$\\frac{\\partial E}{\\partial w_{21}} = \\delta_{h1} \\cdot x_2 = -0.0008 \\cdot 0.1 \\approx -0.00008$$$$\\frac{\\partial E}{\\partial w_{12}} = \\delta_{h2} \\cdot x_1 = -0.00089 \\cdot 0.5 \\approx -0.000445$$$$\\frac{\\partial E}{\\partial w_{22}} = \\delta_{h2} \\cdot x_2 = -0.00089 \\cdot 0.1 \\approx -0.000089$$\n",
        "\n",
        "Gradient for hidden bias:$$\\frac{\\partial E}{\\partial b_h} = \\delta_{h1} + \\delta_{h2} = -0.0008 + (-0.00089) \\approx -0.00169$$"
      ],
      "metadata": {
        "id": "bvuHid2beyQw"
      },
      "id": "bvuHid2beyQw"
    },
    {
      "cell_type": "markdown",
      "source": [
        "<font color='red'> Step 3: Update Weights and Biases </font>\n",
        "\n",
        "Using gradient descent: $w = w - \\eta \\cdot \\frac{\\partial E}{\\partial w}$.\n",
        "Output Layer:\n",
        "\n",
        "$w_{h1} = 0.4 - 0.5 \\cdot (-0.00513) = 0.4 + 0.002565 \\approx 0.4026$\n",
        "$w_{h2} = 0.45 - 0.5 \\cdot (-0.00519) = 0.45 + 0.002595 \\approx 0.4526$\n",
        "$b_y = 0.6 - 0.5 \\cdot (-0.0084) = 0.6 + 0.0042 \\approx 0.6042$\n",
        "\n",
        "Hidden Layer:\n",
        "\n",
        "$w_{11} = 0.15 - 0.5 \\cdot (-0.0004) = 0.15 + 0.0002 \\approx 0.1502$\n",
        "$w_{21} = 0.25 - 0.5 \\cdot (-0.00008) = 0.25 + 0.00004 \\approx 0.25004$\n",
        "$w_{12} = 0.2 - 0.5 \\cdot (-0.000445) = 0.2 + 0.0002225 \\approx 0.2002$\n",
        "$w_{22} = 0.3 - 0.5 \\cdot (-0.000089) = 0.3 + 0.0000445 \\approx 0.30004$\n",
        "$b_h = 0.35 - 0.5 \\cdot (-0.00169) = 0.35 + 0.000845 \\approx 0.3508$"
      ],
      "metadata": {
        "id": "_80Z96Xee3u-"
      },
      "id": "_80Z96Xee3u-"
    },
    {
      "cell_type": "markdown",
      "source": [
        "### Backpropagation Application & Problems\n",
        "\n",
        "#### Applications of Backpropagation\n",
        "\n",
        "### In Machine Learning (ML)\n",
        "* Backpropagation is the backbone of training artificial neural networks (ANNs) and is widely used across ML domains:\n",
        "\n",
        "    - **Image Recognition**: Optimizes weights in convolutional neural networks (CNNs) for tasks like object detection (e.g., identifying objects in images).\n",
        "    - **Natural Language Processing (NLP)**: Adjusts weights in recurrent neural networks (RNNs) and transformers for tasks like machine translation and text generation.\n",
        "    - **Speech Recognition**: Fine-tunes deep neural networks to convert audio to text by minimizing prediction errors.\n",
        "* **Control Systems**: Optimizes parameters in control algorithms for robotics or autonomous systems, adjusting to minimize error in system dynamics.\n",
        "  \n",
        "  $E = \\frac{1}{2} (y_{\\text{desired}} - y_{\\text{actual}})^2$\n",
        "  \n",
        "- **Physics Simulations**: Used to fit models to experimental data, such as optimizing parameters in computational fluid dynamics.\n",
        "- **Economics**: Adjusts weights in econometric models to predict economic trends or optimize resource allocation.\n",
        "- **Signal Processing**: Fine-tunes filters in adaptive signal processing to minimize noise in communication systems.\n",
        "\n",
        "#### Problems and Challenges with Backpropagation\n",
        "- **Vanishing/Exploding Gradients**: Throughout Backpropagation workflow, gradients are multiplied across layers, this can lead to two extreme cases:\n",
        "\n",
        "    Gradients can shrink $( \\frac{\\partial E}{\\partial w} \\to 0 )$ or grow  $( \\frac{\\partial E}{\\partial w} \\to \\infty )$\n",
        "\n",
        "<font color='red'>This is also called Backpropagation through Time Problem (BPTT)</font>.\n",
        "\n",
        "- **Overfitting**: Models may memorize training data, requiring regularization like dropout.\n",
        "\n",
        "- **Computational Complexity**: Training large networks demands significant computational resources (e.g., GPUs).\n",
        "- **Local Minima**: The algorithm may converge to suboptimal solutions, though this is less critical in high-dimensional spaces.\n",
        "\n",
        "  $E(w) = \\frac{1}{2} \\sum (t - y)^2$\n",
        "\n",
        "- **Initialization Sensitivity**: Poor weight initialization can lead to slow convergence, addressed by methods like Xavier initialization.\n",
        "\n",
        "Backpropagation’s versatility makes it a powerful tool across domains, though its challenges require tailored solutions depending on the application."
      ],
      "metadata": {
        "id": "j_5PZniPmEWm"
      },
      "id": "j_5PZniPmEWm"
    },
    {
      "cell_type": "markdown",
      "source": [
        "## Comparision & Summary"
      ],
      "metadata": {
        "id": "rkVRd5AWs5XR"
      },
      "id": "rkVRd5AWs5XR"
    },
    {
      "cell_type": "markdown",
      "source": [
        "\n",
        "### Comparison between other Differentiation methods\n",
        "1. Compare to Numerical Differentiation:\n",
        "\n",
        "| **Aspect**               | **Numerical Differentiation**                              | **Automatic Differentiation**                            |\n",
        "|---------------------------|-----------------------------------------------------------|--------------------------------------------------------|\n",
        "| **Accuracy**             | Approximates derivatives (e.g., $ f'(x) \\approx \\frac{f(x + h) - f(x)}{h} $). Prone to round-off and truncation errors, accuracy decreases with complex functions or noisy data. | Exact derivatives up to machine precision via computational graph. Avoids approximation errors. |\n",
        "| **Computational Efficiency** | Requires $ O(n) $ function evaluations for $ n $ parameters (e.g., central differences). Inefficient for **high-dimensional problems**. | Operates at the cost of function evaluation, $ O(n) $ for forward mode or $ O(n) $ per output in reverse mode. **Highly efficient for complex models**. |\n",
        "| **Implementation Complexity** | Simple to implement (e.g., finite difference formula). Requires tuning step size $ h $ to balance accuracy and error. | Requires computational graph (handled by frameworks like TensorFlow or PyTorch). Complex manually but integrated into ML libraries. |\n",
        "| **Applicability**        | Suitable for simple functions or black-box models where derivatives are unavailable. Struggles with high-dimensional or noisy data. | Excels in ML, optimizing deep networks with thousands of parameters. Applicable to any computable function, including those with control flow. |\n",
        "| **Memory Usage**         | Minimal memory, stores only function evaluations.         | Moderate to high memory usage (forward mode stores intermediates, reverse mode stores graph). Scales with outputs in reverse mode. |\n",
        "| **Mathematical Insight** | $ f'(x) \\approx \\frac{f(x + h) - f(x - h)}{2h} $ (error $ O(h^2) $). | Computes $ \\frac{\\partial E}{\\partial w} $ by chaining partial derivatives (e.g., $ \\frac{\\partial E}{\\partial w} = \\frac{\\partial E}{\\partial y} \\cdot \\frac{\\partial y}{\\partial w} $), exact and efficient. |\n",
        "\n",
        "2. Compare to Symbolic Differentiation:\n",
        "\n",
        "| **Aspect**               | **Symbolic Differentiation**                              | **Automatic Differentiation**                            |\n",
        "|---------------------------|-----------------------------------------------------------|--------------------------------------------------------|\n",
        "| **Accuracy**             | Provides exact derivatives (e.g., $ \\frac{d}{dx}(x^2) = 2x $). No approximation errors, but suffers from expression swell with large expressions. | Delivers exact derivatives up to machine precision via computational graph. |\n",
        "| **Computational Efficiency** | Computationally expensive due to symbolic manipulation and simplification. Exponential growth in complexity with nested functions. | Operates at the cost of function evaluation, $ O(n) $ for forward mode or $ O(n) $ per output in reverse mode. Highly efficient for complex models. |\n",
        "| **Implementation Complexity** | Requires a symbolic math engine (e.g., SymPy), complex for large systems. Impractical for dynamic computations. | Requires computational graph (handled by frameworks like TensorFlow or PyTorch). Complex manually but integrated into ML libraries. |\n",
        "| **Applicability**        | Ideal for analytical derivations or small, static expressions. Impractical for large-scale, data-driven models. | Excels in ML, optimizing deep networks with thousands of parameters. Applicable to any computable function, including those with control flow. |\n",
        "| **Memory Usage**         | High memory usage due to storing symbolic expressions.   | Moderate to high memory usage (forward mode stores intermediates, reverse mode stores graph). Scales with outputs in reverse mode. |\n",
        "| **Mathematical Insight** | $ \\frac{d}{dx}(e^{x^2}) = 2x e^{x^2} $, exact but grows with complexity. | Computes $ \\frac{\\partial E}{\\partial w} $ by chaining partial derivatives (e.g., $ \\frac{\\partial E}{\\partial w} = \\frac{\\partial E}{\\partial y} \\cdot \\frac{\\partial y}{\\partial w} $), exact and efficient. |\n",
        "\n",
        "3. Insights:\n",
        "- **Numerical Differentiation** is simple but inaccurate and inefficient for large systems.\n",
        "- **Symbolic Differentiation** is precise but impractical for dynamic, large-scale problems.\n",
        "- **Automatic Differentiation** strikes a balance, offering exactness and efficiency, making it the preferred choice for modern machine."
      ],
      "metadata": {
        "id": "OlHySnxGqg6g"
      },
      "id": "OlHySnxGqg6g"
    },
    {
      "cell_type": "markdown",
      "source": [
        "### Comparison between Forward & Backward mode\n",
        "| Feature                     | Forward Mode AD                          | Backward Mode AD                         |\n",
        "|-----------------------------|------------------------------------------|------------------------------------------|\n",
        "| **Definition**              | Computes derivatives alongside function evaluation, propagating derivatives forward. | Computes derivatives by backpropagating gradients from output to input. |\n",
        "| **Computation Direction**   | Forward: from inputs to outputs.         | Backward: from outputs to inputs.        |\n",
        "| **Derivative Propagation**  | Accumulates derivatives (tangents) during forward pass. | Accumulates gradients during backward pass. |\n",
        "| **Efficiency**              | Efficient for functions with few inputs and many outputs (e.g., $ f: \\mathbb{R}^n \\to \\mathbb{R}^m $, $ n \\ll m $). | Efficient for functions with many inputs and few outputs (e.g., $ f: \\mathbb{R}^n \\to \\mathbb{R}^m $, $ n \\gg m $). |\n",
        "| **Memory Usage**            | Lower memory for small input dimensions; stores intermediate tangents. | Higher memory; stores intermediate activations for backward pass. |\n",
        "| **Use Case**                | Real-time systems, sensitivity analysis for small input spaces. | Neural network training, optimization problems with scalar loss. |\n",
        "| **Implementation Complexity** | Simpler to implement for small systems.  | More complex, requires reverse computation graph. |\n",
        "| **Example Application**     | Computing Jacobians for small systems.   | Gradient computation in deep learning.   |\n",
        "| **Scalability**             | Scales poorly with large input dimensions. | Scales well with large input dimensions. |\n",
        "\n",
        "### Recommended usage for each mode\n",
        "**Forward Mode:**\n",
        "* Good when you have a small number of inputs (e.g., 2–3 parameters).\n",
        "* Ideal for Jacobian-vector products: e.g., computing directional derivatives.\n",
        "\n",
        "**Backward Mode:**\n",
        "* When you have many inputs and one output (e.g., loss function in neural nets).\n",
        "* Ideal for training machine learning models (via backpropagation)."
      ],
      "metadata": {
        "id": "NWLyE0NPtll3"
      },
      "id": "NWLyE0NPtll3"
    },
    {
      "cell_type": "markdown",
      "source": [
        "## References\n",
        "[Automatic Differentiation in Machine Learning: a Survey](https://arxiv.org/pdf/1502.05767)\n",
        "\n",
        "[Automatic Differentiation D2l](https://d2l.ai/chapter_preliminaries/autograd.html)\n",
        "\n",
        "[Youtube](https://www.youtube.com/watch?v=wG_nF1awSSY)\n",
        "\n"
      ],
      "metadata": {
        "id": "xXaZ5N4u1HCq"
      },
      "id": "xXaZ5N4u1HCq"
    },
    {
      "cell_type": "markdown",
      "source": [
        "# Visualization\n",
        "\n",
        "Code, implement AutoDiff, explain with an example. show backward and forward\n",
        "Ex: f(x1, x2) = ln(x1) + x1x2 - sin(x2)\n",
        "\n",
        "https://d2l.ai/chapter_preliminaries/autograd.html\n",
        "\n",
        "https://homepages.inf.ed.ac.uk/htang2/mlg2022/tutorial-3.pdf\n"
      ],
      "metadata": {
        "id": "9o5Q0ZG0KVQ2"
      },
      "id": "9o5Q0ZG0KVQ2"
    },
    {
      "cell_type": "markdown",
      "source": [
        "# Exercises (1-4)\n",
        "\n",
        "1. Why is the second derivative much more expensive to compute than the first derivative?\n",
        "1. After running the function for backpropagation, immediately run it again and see what happens. Investigate.\n",
        "1. In the control flow example where we calculate the derivative of `d` with respect to `a`, what would happen if we changed the variable `a` to a random vector or a matrix? At this point, the result of the calculation `f(a)` is no longer a scalar. What happens to the result? How do we analyze this?\n",
        "1. Let $f(x) = \\sin(x)$. Plot the graph of $f$ and of its derivative $f'$. Do not exploit the fact that $f'(x) = \\cos(x)$ but rather use automatic differentiation to get the result.\n",
        "\n"
      ],
      "metadata": {
        "id": "hk4f988CNvh7"
      },
      "id": "hk4f988CNvh7"
    },
    {
      "cell_type": "markdown",
      "source": [
        "# Exercises (5-8)\n",
        "1. Let $f(x) = ((\\log x^2) \\cdot \\sin x) + x^{-1}$. Write out a dependency graph tracing results from $x$ to $f(x)$.\n",
        "1. Use the chain rule to compute the derivative $\\frac{df}{dx}$ of the aforementioned function, placing each term on the dependency graph that you constructed previously.\n",
        "1. Given the graph and the intermediate derivative results, you have a number of options when computing the gradient. Evaluate the result once starting from $x$ to $f$ and once from $f$ tracing back to $x$. The path from $x$ to $f$ is commonly known as *forward differentiation*, whereas the path from $f$ to $x$ is known as backward differentiation.\n",
        "1. When might you want to use forward, and when backward, differentiation? Hint: consider the amount of intermediate data needed, the ability to parallelize steps, and the size of matrices and vectors involved."
      ],
      "metadata": {
        "id": "KievrNAtN8MC"
      },
      "id": "KievrNAtN8MC"
    },
    {
      "cell_type": "markdown",
      "id": "4144c129",
      "metadata": {
        "origin_pos": 1,
        "id": "4144c129"
      },
      "source": [
        "***Reference: origin notebook of d2l as below***\n",
        "\n",
        "# Automatic Differentiation\n",
        ":label:`sec_autograd`\n",
        "\n",
        "Recall from :numref:`sec_calculus`\n",
        "that calculating derivatives is the crucial step\n",
        "in all the optimization algorithms\n",
        "that we will use to train deep networks.\n",
        "While the calculations are straightforward,\n",
        "working them out by hand can be tedious and error-prone,\n",
        "and these issues only grow\n",
        "as our models become more complex.\n",
        "\n",
        "Fortunately all modern deep learning frameworks\n",
        "take this work off our plates\n",
        "by offering *automatic differentiation*\n",
        "(often shortened to *autograd*).\n",
        "As we pass data through each successive function,\n",
        "the framework builds a *computational graph*\n",
        "that tracks how each value depends on others.\n",
        "To calculate derivatives,\n",
        "automatic differentiation\n",
        "works backwards through this graph\n",
        "applying the chain rule.\n",
        "The computational algorithm for applying the chain rule\n",
        "in this fashion is called *backpropagation*.\n",
        "\n",
        "While autograd libraries have become\n",
        "a hot concern over the past decade,\n",
        "they have a long history.\n",
        "In fact the earliest references to autograd\n",
        "date back over half of a century :cite:`Wengert.1964`.\n",
        "The core ideas behind modern backpropagation\n",
        "date to a PhD thesis from 1980 :cite:`Speelpenning.1980`\n",
        "and were further developed in the late 1980s :cite:`Griewank.1989`.\n",
        "While backpropagation has become the default method\n",
        "for computing gradients, it is not the only option.\n",
        "For instance, the Julia programming language employs\n",
        "forward propagation :cite:`Revels.Lubin.Papamarkou.2016`.\n",
        "Before exploring methods,\n",
        "let's first master the autograd package.\n"
      ]
    },
    {
      "cell_type": "code",
      "execution_count": null,
      "id": "130439cd",
      "metadata": {
        "execution": {
          "iopub.execute_input": "2023-08-18T19:26:08.286501Z",
          "iopub.status.busy": "2023-08-18T19:26:08.285693Z",
          "iopub.status.idle": "2023-08-18T19:26:10.052257Z",
          "shell.execute_reply": "2023-08-18T19:26:10.050994Z"
        },
        "origin_pos": 3,
        "tab": [
          "pytorch"
        ],
        "id": "130439cd"
      },
      "outputs": [],
      "source": [
        "import torch"
      ]
    },
    {
      "cell_type": "markdown",
      "id": "e2ab3850",
      "metadata": {
        "origin_pos": 6,
        "id": "e2ab3850"
      },
      "source": [
        "## A Simple Function\n",
        "\n",
        "Let's assume that we are interested\n",
        "in (**differentiating the function\n",
        "$y = 2\\mathbf{x}^{\\top}\\mathbf{x}$\n",
        "with respect to the column vector $\\mathbf{x}$.**)\n",
        "To start, we assign `x` an initial value.\n"
      ]
    },
    {
      "cell_type": "code",
      "execution_count": null,
      "id": "4253cfab",
      "metadata": {
        "attributes": {
          "classes": [],
          "id": "",
          "n": "7"
        },
        "execution": {
          "iopub.execute_input": "2023-08-18T19:26:10.056833Z",
          "iopub.status.busy": "2023-08-18T19:26:10.055871Z",
          "iopub.status.idle": "2023-08-18T19:26:10.084858Z",
          "shell.execute_reply": "2023-08-18T19:26:10.083727Z"
        },
        "origin_pos": 8,
        "tab": [
          "pytorch"
        ],
        "id": "4253cfab",
        "outputId": "a4817393-fc1c-4795-875e-4d2861054425"
      },
      "outputs": [
        {
          "data": {
            "text/plain": [
              "tensor([0., 1., 2., 3.])"
            ]
          },
          "execution_count": 2,
          "metadata": {},
          "output_type": "execute_result"
        }
      ],
      "source": [
        "x = torch.arange(4.0)\n",
        "x"
      ]
    },
    {
      "cell_type": "markdown",
      "id": "e75614b0",
      "metadata": {
        "origin_pos": 11,
        "tab": [
          "pytorch"
        ],
        "id": "e75614b0"
      },
      "source": [
        "[**Before we calculate the gradient\n",
        "of $y$ with respect to $\\mathbf{x}$,\n",
        "we need a place to store it.**]\n",
        "In general, we avoid allocating new memory\n",
        "every time we take a derivative\n",
        "because deep learning requires\n",
        "successively computing derivatives\n",
        "with respect to the same parameters\n",
        "a great many times,\n",
        "and we might risk running out of memory.\n",
        "Note that the gradient of a scalar-valued function\n",
        "with respect to a vector $\\mathbf{x}$\n",
        "is vector-valued with\n",
        "the same shape as $\\mathbf{x}$.\n"
      ]
    },
    {
      "cell_type": "code",
      "execution_count": null,
      "id": "2a001d1e",
      "metadata": {
        "attributes": {
          "classes": [],
          "id": "",
          "n": "9"
        },
        "execution": {
          "iopub.execute_input": "2023-08-18T19:26:10.088716Z",
          "iopub.status.busy": "2023-08-18T19:26:10.087816Z",
          "iopub.status.idle": "2023-08-18T19:26:10.092878Z",
          "shell.execute_reply": "2023-08-18T19:26:10.091740Z"
        },
        "origin_pos": 13,
        "tab": [
          "pytorch"
        ],
        "id": "2a001d1e"
      },
      "outputs": [],
      "source": [
        "# Can also create x = torch.arange(4.0, requires_grad=True)\n",
        "x.requires_grad_(True)\n",
        "x.grad  # The gradient is None by default"
      ]
    },
    {
      "cell_type": "markdown",
      "id": "2e74bc02",
      "metadata": {
        "origin_pos": 15,
        "id": "2e74bc02"
      },
      "source": [
        "(**We now calculate our function of `x` and assign the result to `y`.**)\n"
      ]
    },
    {
      "cell_type": "code",
      "execution_count": null,
      "id": "6e3bd777",
      "metadata": {
        "attributes": {
          "classes": [],
          "id": "",
          "n": "11"
        },
        "execution": {
          "iopub.execute_input": "2023-08-18T19:26:10.096336Z",
          "iopub.status.busy": "2023-08-18T19:26:10.095772Z",
          "iopub.status.idle": "2023-08-18T19:26:10.105236Z",
          "shell.execute_reply": "2023-08-18T19:26:10.104075Z"
        },
        "origin_pos": 17,
        "tab": [
          "pytorch"
        ],
        "id": "6e3bd777",
        "outputId": "d6372de1-8216-4343-88fa-ca454f727629"
      },
      "outputs": [
        {
          "data": {
            "text/plain": [
              "tensor(28., grad_fn=<MulBackward0>)"
            ]
          },
          "execution_count": 4,
          "metadata": {},
          "output_type": "execute_result"
        }
      ],
      "source": [
        "y = 2 * torch.dot(x, x)\n",
        "y"
      ]
    },
    {
      "cell_type": "markdown",
      "id": "c3067490",
      "metadata": {
        "origin_pos": 21,
        "tab": [
          "pytorch"
        ],
        "id": "c3067490"
      },
      "source": [
        "[**We can now take the gradient of `y`\n",
        "with respect to `x`**] by calling\n",
        "its `backward` method.\n",
        "Next, we can access the gradient\n",
        "via `x`'s `grad` attribute.\n"
      ]
    },
    {
      "cell_type": "code",
      "execution_count": null,
      "id": "21b134ae",
      "metadata": {
        "attributes": {
          "classes": [],
          "id": "",
          "n": "12"
        },
        "execution": {
          "iopub.execute_input": "2023-08-18T19:26:10.108600Z",
          "iopub.status.busy": "2023-08-18T19:26:10.108011Z",
          "iopub.status.idle": "2023-08-18T19:26:10.160854Z",
          "shell.execute_reply": "2023-08-18T19:26:10.159702Z"
        },
        "origin_pos": 25,
        "tab": [
          "pytorch"
        ],
        "id": "21b134ae",
        "outputId": "3c3b96c9-3955-4c18-f6ed-fe92feaf5957"
      },
      "outputs": [
        {
          "data": {
            "text/plain": [
              "tensor([ 0.,  4.,  8., 12.])"
            ]
          },
          "execution_count": 5,
          "metadata": {},
          "output_type": "execute_result"
        }
      ],
      "source": [
        "y.backward()\n",
        "x.grad"
      ]
    },
    {
      "cell_type": "markdown",
      "id": "17d1390b",
      "metadata": {
        "origin_pos": 28,
        "id": "17d1390b"
      },
      "source": [
        "(**We already know that the gradient of the function $y = 2\\mathbf{x}^{\\top}\\mathbf{x}$\n",
        "with respect to $\\mathbf{x}$ should be $4\\mathbf{x}$.**)\n",
        "We can now verify that the automatic gradient computation\n",
        "and the expected result are identical.\n"
      ]
    },
    {
      "cell_type": "code",
      "execution_count": null,
      "id": "5030e37d",
      "metadata": {
        "attributes": {
          "classes": [],
          "id": "",
          "n": "14"
        },
        "execution": {
          "iopub.execute_input": "2023-08-18T19:26:10.164665Z",
          "iopub.status.busy": "2023-08-18T19:26:10.163930Z",
          "iopub.status.idle": "2023-08-18T19:26:10.171033Z",
          "shell.execute_reply": "2023-08-18T19:26:10.169923Z"
        },
        "origin_pos": 30,
        "tab": [
          "pytorch"
        ],
        "id": "5030e37d",
        "outputId": "da15a8ec-929d-48c0-d80f-b3a536de4f8c"
      },
      "outputs": [
        {
          "data": {
            "text/plain": [
              "tensor([True, True, True, True])"
            ]
          },
          "execution_count": 6,
          "metadata": {},
          "output_type": "execute_result"
        }
      ],
      "source": [
        "x.grad == 4 * x"
      ]
    },
    {
      "cell_type": "markdown",
      "id": "da440e48",
      "metadata": {
        "origin_pos": 34,
        "tab": [
          "pytorch"
        ],
        "id": "da440e48"
      },
      "source": [
        "[**Now let's calculate\n",
        "another function of `x`\n",
        "and take its gradient.**]\n",
        "Note that PyTorch does not automatically\n",
        "reset the gradient buffer\n",
        "when we record a new gradient.\n",
        "Instead, the new gradient\n",
        "is added to the already-stored gradient.\n",
        "This behavior comes in handy\n",
        "when we want to optimize the sum\n",
        "of multiple objective functions.\n",
        "To reset the gradient buffer,\n",
        "we can call `x.grad.zero_()` as follows:\n"
      ]
    },
    {
      "cell_type": "code",
      "execution_count": null,
      "id": "add5cf4b",
      "metadata": {
        "attributes": {
          "classes": [],
          "id": "",
          "n": "20"
        },
        "execution": {
          "iopub.execute_input": "2023-08-18T19:26:10.174691Z",
          "iopub.status.busy": "2023-08-18T19:26:10.173957Z",
          "iopub.status.idle": "2023-08-18T19:26:10.181847Z",
          "shell.execute_reply": "2023-08-18T19:26:10.180759Z"
        },
        "origin_pos": 37,
        "tab": [
          "pytorch"
        ],
        "id": "add5cf4b",
        "outputId": "c3ec729a-b1fb-481f-e7f5-655516e2b346"
      },
      "outputs": [
        {
          "data": {
            "text/plain": [
              "tensor([1., 1., 1., 1.])"
            ]
          },
          "execution_count": 7,
          "metadata": {},
          "output_type": "execute_result"
        }
      ],
      "source": [
        "x.grad.zero_()  # Reset the gradient\n",
        "y = x.sum()\n",
        "y.backward()\n",
        "x.grad"
      ]
    },
    {
      "cell_type": "markdown",
      "id": "8bdd4c0c",
      "metadata": {
        "origin_pos": 40,
        "id": "8bdd4c0c"
      },
      "source": [
        "## Backward for Non-Scalar Variables\n",
        "\n",
        "When `y` is a vector,\n",
        "the most natural representation\n",
        "of the derivative of  `y`\n",
        "with respect to a vector `x`\n",
        "is a matrix called the *Jacobian*\n",
        "that contains the partial derivatives\n",
        "of each component of `y`\n",
        "with respect to each component of `x`.\n",
        "Likewise, for higher-order `y` and `x`,\n",
        "the result of differentiation could be an even higher-order tensor.\n",
        "\n",
        "While Jacobians do show up in some\n",
        "advanced machine learning techniques,\n",
        "more commonly we want to sum up\n",
        "the gradients of each component of `y`\n",
        "with respect to the full vector `x`,\n",
        "yielding a vector of the same shape as `x`.\n",
        "For example, we often have a vector\n",
        "representing the value of our loss function\n",
        "calculated separately for each example among\n",
        "a *batch* of training examples.\n",
        "Here, we just want to (**sum up the gradients\n",
        "computed individually for each example**).\n"
      ]
    },
    {
      "cell_type": "markdown",
      "id": "9dda7124",
      "metadata": {
        "origin_pos": 42,
        "tab": [
          "pytorch"
        ],
        "id": "9dda7124"
      },
      "source": [
        "Because deep learning frameworks vary\n",
        "in how they interpret gradients of\n",
        "non-scalar tensors,\n",
        "PyTorch takes some steps to avoid confusion.\n",
        "Invoking `backward` on a non-scalar elicits an error\n",
        "unless we tell PyTorch how to reduce the object to a scalar.\n",
        "More formally, we need to provide some vector $\\mathbf{v}$\n",
        "such that `backward` will compute\n",
        "$\\mathbf{v}^\\top \\partial_{\\mathbf{x}} \\mathbf{y}$\n",
        "rather than $\\partial_{\\mathbf{x}} \\mathbf{y}$.\n",
        "This next part may be confusing,\n",
        "but for reasons that will become clear later,\n",
        "this argument (representing $\\mathbf{v}$) is named `gradient`.\n",
        "For a more detailed description, see Yang Zhang's\n",
        "[Medium post](https://zhang-yang.medium.com/the-gradient-argument-in-pytorchs-backward-function-explained-by-examples-68f266950c29).\n"
      ]
    },
    {
      "cell_type": "code",
      "execution_count": null,
      "id": "1baa40bd",
      "metadata": {
        "execution": {
          "iopub.execute_input": "2023-08-18T19:26:10.185096Z",
          "iopub.status.busy": "2023-08-18T19:26:10.184685Z",
          "iopub.status.idle": "2023-08-18T19:26:10.192537Z",
          "shell.execute_reply": "2023-08-18T19:26:10.191435Z"
        },
        "origin_pos": 45,
        "tab": [
          "pytorch"
        ],
        "id": "1baa40bd",
        "outputId": "dc4b39c4-6948-4526-f167-7118248b07d2"
      },
      "outputs": [
        {
          "data": {
            "text/plain": [
              "tensor([0., 2., 4., 6.])"
            ]
          },
          "execution_count": 8,
          "metadata": {},
          "output_type": "execute_result"
        }
      ],
      "source": [
        "x.grad.zero_()\n",
        "y = x * x\n",
        "y.backward(gradient=torch.ones(len(y)))  # Faster: y.sum().backward()\n",
        "x.grad"
      ]
    },
    {
      "cell_type": "markdown",
      "id": "ffbd2c9d",
      "metadata": {
        "origin_pos": 48,
        "id": "ffbd2c9d"
      },
      "source": [
        "## Detaching Computation\n",
        "\n",
        "Sometimes, we wish to [**move some calculations\n",
        "outside of the recorded computational graph.**]\n",
        "For example, say that we use the input\n",
        "to create some auxiliary intermediate terms\n",
        "for which we do not want to compute a gradient.\n",
        "In this case, we need to *detach*\n",
        "the respective computational graph\n",
        "from the final result.\n",
        "The following toy example makes this clearer:\n",
        "suppose we have `z = x * y` and `y = x * x`\n",
        "but we want to focus on the *direct* influence of `x` on `z`\n",
        "rather than the influence conveyed via `y`.\n",
        "In this case, we can create a new variable `u`\n",
        "that takes the same value as `y`\n",
        "but whose *provenance* (how it was created)\n",
        "has been wiped out.\n",
        "Thus `u` has no ancestors in the graph\n",
        "and gradients do not flow through `u` to `x`.\n",
        "For example, taking the gradient of `z = x * u`\n",
        "will yield the result `u`,\n",
        "(not `3 * x * x` as you might have\n",
        "expected since `z = x * x * x`).\n"
      ]
    },
    {
      "cell_type": "code",
      "execution_count": null,
      "id": "107ac041",
      "metadata": {
        "attributes": {
          "classes": [],
          "id": "",
          "n": "21"
        },
        "execution": {
          "iopub.execute_input": "2023-08-18T19:26:10.196001Z",
          "iopub.status.busy": "2023-08-18T19:26:10.195456Z",
          "iopub.status.idle": "2023-08-18T19:26:10.203246Z",
          "shell.execute_reply": "2023-08-18T19:26:10.202155Z"
        },
        "origin_pos": 50,
        "tab": [
          "pytorch"
        ],
        "id": "107ac041",
        "outputId": "e07fe5dc-f226-4cf2-8042-4c499f7ed519"
      },
      "outputs": [
        {
          "data": {
            "text/plain": [
              "tensor([True, True, True, True])"
            ]
          },
          "execution_count": 9,
          "metadata": {},
          "output_type": "execute_result"
        }
      ],
      "source": [
        "x.grad.zero_()\n",
        "y = x * x\n",
        "u = y.detach()\n",
        "z = u * x\n",
        "\n",
        "z.sum().backward()\n",
        "x.grad == u"
      ]
    },
    {
      "cell_type": "markdown",
      "id": "e0378e1f",
      "metadata": {
        "origin_pos": 53,
        "id": "e0378e1f"
      },
      "source": [
        "Note that while this procedure\n",
        "detaches `y`'s ancestors\n",
        "from the graph leading to `z`,\n",
        "the computational graph leading to `y`\n",
        "persists and thus we can calculate\n",
        "the gradient of `y` with respect to `x`.\n"
      ]
    },
    {
      "cell_type": "code",
      "execution_count": null,
      "id": "cb8c674b",
      "metadata": {
        "execution": {
          "iopub.execute_input": "2023-08-18T19:26:10.206880Z",
          "iopub.status.busy": "2023-08-18T19:26:10.206001Z",
          "iopub.status.idle": "2023-08-18T19:26:10.213592Z",
          "shell.execute_reply": "2023-08-18T19:26:10.212476Z"
        },
        "origin_pos": 55,
        "tab": [
          "pytorch"
        ],
        "id": "cb8c674b",
        "outputId": "772ee87b-f492-48b8-e329-e0ef9f98ca18"
      },
      "outputs": [
        {
          "data": {
            "text/plain": [
              "tensor([True, True, True, True])"
            ]
          },
          "execution_count": 10,
          "metadata": {},
          "output_type": "execute_result"
        }
      ],
      "source": [
        "x.grad.zero_()\n",
        "y.sum().backward()\n",
        "x.grad == 2 * x"
      ]
    },
    {
      "cell_type": "markdown",
      "id": "76f056ce",
      "metadata": {
        "origin_pos": 58,
        "id": "76f056ce"
      },
      "source": [
        "## Gradients and Python Control Flow\n",
        "\n",
        "So far we reviewed cases where the path from input to output\n",
        "was well defined via a function such as `z = x * x * x`.\n",
        "Programming offers us a lot more freedom in how we compute results.\n",
        "For instance, we can make them depend on auxiliary variables\n",
        "or condition choices on intermediate results.\n",
        "One benefit of using automatic differentiation\n",
        "is that [**even if**] building the computational graph of\n",
        "(**a function required passing through a maze of Python control flow**)\n",
        "(e.g., conditionals, loops, and arbitrary function calls),\n",
        "(**we can still calculate the gradient of the resulting variable.**)\n",
        "To illustrate this, consider the following code snippet where\n",
        "the number of iterations of the `while` loop\n",
        "and the evaluation of the `if` statement\n",
        "both depend on the value of the input `a`.\n"
      ]
    },
    {
      "cell_type": "code",
      "execution_count": null,
      "id": "a83327c2",
      "metadata": {
        "execution": {
          "iopub.execute_input": "2023-08-18T19:26:10.218214Z",
          "iopub.status.busy": "2023-08-18T19:26:10.217554Z",
          "iopub.status.idle": "2023-08-18T19:26:10.222956Z",
          "shell.execute_reply": "2023-08-18T19:26:10.221858Z"
        },
        "origin_pos": 60,
        "tab": [
          "pytorch"
        ],
        "id": "a83327c2"
      },
      "outputs": [],
      "source": [
        "def f(a):\n",
        "    b = a * 2\n",
        "    while b.norm() < 1000:\n",
        "        b = b * 2\n",
        "    if b.sum() > 0:\n",
        "        c = b\n",
        "    else:\n",
        "        c = 100 * b\n",
        "    return c"
      ]
    },
    {
      "cell_type": "markdown",
      "id": "189f6785",
      "metadata": {
        "origin_pos": 63,
        "id": "189f6785"
      },
      "source": [
        "Below, we call this function, passing in a random value, as input.\n",
        "Since the input is a random variable,\n",
        "we do not know what form\n",
        "the computational graph will take.\n",
        "However, whenever we execute `f(a)`\n",
        "on a specific input, we realize\n",
        "a specific computational graph\n",
        "and can subsequently run `backward`.\n"
      ]
    },
    {
      "cell_type": "code",
      "execution_count": null,
      "id": "c5ef0264",
      "metadata": {
        "execution": {
          "iopub.execute_input": "2023-08-18T19:26:10.227364Z",
          "iopub.status.busy": "2023-08-18T19:26:10.226919Z",
          "iopub.status.idle": "2023-08-18T19:26:10.232880Z",
          "shell.execute_reply": "2023-08-18T19:26:10.231773Z"
        },
        "origin_pos": 65,
        "tab": [
          "pytorch"
        ],
        "id": "c5ef0264"
      },
      "outputs": [],
      "source": [
        "a = torch.randn(size=(), requires_grad=True)\n",
        "d = f(a)\n",
        "d.backward()"
      ]
    },
    {
      "cell_type": "markdown",
      "id": "51065133",
      "metadata": {
        "origin_pos": 68,
        "id": "51065133"
      },
      "source": [
        "Even though our function `f` is, for demonstration purposes, a bit contrived,\n",
        "its dependence on the input is quite simple:\n",
        "it is a *linear* function of `a`\n",
        "with piecewise defined scale.\n",
        "As such, `f(a) / a` is a vector of constant entries\n",
        "and, moreover, `f(a) / a` needs to match\n",
        "the gradient of `f(a)` with respect to `a`.\n"
      ]
    },
    {
      "cell_type": "code",
      "execution_count": null,
      "id": "ab14ef91",
      "metadata": {
        "execution": {
          "iopub.execute_input": "2023-08-18T19:26:10.237298Z",
          "iopub.status.busy": "2023-08-18T19:26:10.236886Z",
          "iopub.status.idle": "2023-08-18T19:26:10.243577Z",
          "shell.execute_reply": "2023-08-18T19:26:10.242480Z"
        },
        "origin_pos": 70,
        "tab": [
          "pytorch"
        ],
        "id": "ab14ef91",
        "outputId": "4d85cfd2-c7b3-460e-bf7e-76fdf88e0f50"
      },
      "outputs": [
        {
          "data": {
            "text/plain": [
              "tensor(True)"
            ]
          },
          "execution_count": 13,
          "metadata": {},
          "output_type": "execute_result"
        }
      ],
      "source": [
        "a.grad == d / a"
      ]
    },
    {
      "cell_type": "markdown",
      "id": "a992f28c",
      "metadata": {
        "origin_pos": 73,
        "id": "a992f28c"
      },
      "source": [
        "Dynamic control flow is very common in deep learning.\n",
        "For instance, when processing text, the computational graph\n",
        "depends on the length of the input.\n",
        "In these cases, automatic differentiation\n",
        "becomes vital for statistical modeling\n",
        "since it is impossible to compute the gradient *a priori*.\n",
        "\n",
        "## Discussion\n",
        "\n",
        "You have now gotten a taste of the power of automatic differentiation.\n",
        "The development of libraries for calculating derivatives\n",
        "both automatically and efficiently\n",
        "has been a massive productivity booster\n",
        "for deep learning practitioners,\n",
        "liberating them so they can focus on less menial.\n",
        "Moreover, autograd lets us design massive models\n",
        "for which pen and paper gradient computations\n",
        "would be prohibitively time consuming.\n",
        "Interestingly, while we use autograd to *optimize* models\n",
        "(in a statistical sense)\n",
        "the *optimization* of autograd libraries themselves\n",
        "(in a computational sense)\n",
        "is a rich subject\n",
        "of vital interest to framework designers.\n",
        "Here, tools from compilers and graph manipulation\n",
        "are leveraged to compute results\n",
        "in the most expedient and memory-efficient manner.\n",
        "\n",
        "For now, try to remember these basics: (i) attach gradients to those variables with respect to which we desire derivatives; (ii) record the computation of the target value; (iii) execute the backpropagation function; and  (iv) access the resulting gradient.\n",
        "\n",
        "\n",
        "## Exercises\n",
        "\n",
        "1. Why is the second derivative much more expensive to compute than the first derivative?\n",
        "1. After running the function for backpropagation, immediately run it again and see what happens. Investigate.\n",
        "1. In the control flow example where we calculate the derivative of `d` with respect to `a`, what would happen if we changed the variable `a` to a random vector or a matrix? At this point, the result of the calculation `f(a)` is no longer a scalar. What happens to the result? How do we analyze this?\n",
        "1. Let $f(x) = \\sin(x)$. Plot the graph of $f$ and of its derivative $f'$. Do not exploit the fact that $f'(x) = \\cos(x)$ but rather use automatic differentiation to get the result.\n",
        "1. Let $f(x) = ((\\log x^2) \\cdot \\sin x) + x^{-1}$. Write out a dependency graph tracing results from $x$ to $f(x)$.\n",
        "1. Use the chain rule to compute the derivative $\\frac{df}{dx}$ of the aforementioned function, placing each term on the dependency graph that you constructed previously.\n",
        "1. Given the graph and the intermediate derivative results, you have a number of options when computing the gradient. Evaluate the result once starting from $x$ to $f$ and once from $f$ tracing back to $x$. The path from $x$ to $f$ is commonly known as *forward differentiation*, whereas the path from $f$ to $x$ is known as backward differentiation.\n",
        "1. When might you want to use forward, and when backward, differentiation? Hint: consider the amount of intermediate data needed, the ability to parallelize steps, and the size of matrices and vectors involved.\n"
      ]
    },
    {
      "cell_type": "markdown",
      "id": "4c0ab97d",
      "metadata": {
        "origin_pos": 75,
        "tab": [
          "pytorch"
        ],
        "id": "4c0ab97d"
      },
      "source": [
        "[Discussions](https://discuss.d2l.ai/t/35)\n"
      ]
    }
  ],
  "metadata": {
    "kernelspec": {
      "display_name": "Python 3",
      "name": "python3"
    },
    "language_info": {
      "name": "python"
    },
    "required_libs": [],
    "colab": {
      "provenance": [],
      "include_colab_link": true
    }
  },
  "nbformat": 4,
  "nbformat_minor": 5
}